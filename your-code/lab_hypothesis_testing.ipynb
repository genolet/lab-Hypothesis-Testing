{
 "cells": [
  {
   "cell_type": "markdown",
   "metadata": {
    "id": "xjI20x84zSx2"
   },
   "source": [
    "# Before you start:\n",
    "- Read the README.md file\n",
    "- Comment as much as you can and use the resources (README.md file)\n",
    "- Happy learning!"
   ]
  },
  {
   "cell_type": "code",
   "execution_count": 244,
   "metadata": {
    "colab": {
     "base_uri": "https://localhost:8080/"
    },
    "id": "uzAOTQfoz15Q",
    "outputId": "9597f4c2-a277-4c68-a984-a22cd1d353c6"
   },
   "outputs": [],
   "source": [
    "#!pip install -U scipy"
   ]
  },
  {
   "cell_type": "code",
   "execution_count": 245,
   "metadata": {
    "id": "PIKv798RzSx6"
   },
   "outputs": [],
   "source": [
    "# import numpy and pandas\n",
    "\n",
    "import pandas as pd\n",
    "import numpy as np\n",
    "import statistics as stats\n",
    "import math\n",
    "import scipy.stats as st\n",
    "import re"
   ]
  },
  {
   "cell_type": "markdown",
   "metadata": {
    "id": "GvMX-v1TzSx7"
   },
   "source": [
    "# Challenge 1 - Exploring the Data\n",
    "\n",
    "In this challenge, we will examine all salaries of employees of the San Francisco. We will start by loading the dataset and examining its contents. "
   ]
  },
  {
   "cell_type": "code",
   "execution_count": 246,
   "metadata": {
    "colab": {
     "base_uri": "https://localhost:8080/"
    },
    "id": "jx8dpv-xzSx8",
    "outputId": "c1a35f3c-afb6-4b20-d774-06bbdca465ea"
   },
   "outputs": [
    {
     "name": "stderr",
     "output_type": "stream",
     "text": [
      "/var/folders/fw/gn4y0r6102q38_7vzn4l62mw0000gp/T/ipykernel_11083/851217743.py:3: DtypeWarning: Columns (3,4,5,6,12) have mixed types. Specify dtype option on import or set low_memory=False.\n",
      "  data = pd.read_csv('./Salaries.csv')\n"
     ]
    }
   ],
   "source": [
    "# Your code here:\n",
    "\n",
    "data = pd.read_csv('./Salaries.csv')\n"
   ]
  },
  {
   "cell_type": "code",
   "execution_count": null,
   "metadata": {},
   "outputs": [],
   "source": []
  },
  {
   "cell_type": "markdown",
   "metadata": {
    "id": "28njElH1zSx9"
   },
   "source": [
    "Examine the `salaries` dataset using the `head` function below."
   ]
  },
  {
   "cell_type": "code",
   "execution_count": 247,
   "metadata": {},
   "outputs": [],
   "source": [
    "# Your code here:"
   ]
  },
  {
   "cell_type": "code",
   "execution_count": 248,
   "metadata": {
    "colab": {
     "base_uri": "https://localhost:8080/",
     "height": 530
    },
    "id": "MtrTvrTMzSx9",
    "outputId": "0dae2341-f13f-4cbe-a9ee-93804e23d1c0"
   },
   "outputs": [
    {
     "data": {
      "text/html": [
       "<div>\n",
       "<style scoped>\n",
       "    .dataframe tbody tr th:only-of-type {\n",
       "        vertical-align: middle;\n",
       "    }\n",
       "\n",
       "    .dataframe tbody tr th {\n",
       "        vertical-align: top;\n",
       "    }\n",
       "\n",
       "    .dataframe thead th {\n",
       "        text-align: right;\n",
       "    }\n",
       "</style>\n",
       "<table border=\"1\" class=\"dataframe\">\n",
       "  <thead>\n",
       "    <tr style=\"text-align: right;\">\n",
       "      <th></th>\n",
       "      <th>Id</th>\n",
       "      <th>EmployeeName</th>\n",
       "      <th>JobTitle</th>\n",
       "      <th>BasePay</th>\n",
       "      <th>OvertimePay</th>\n",
       "      <th>OtherPay</th>\n",
       "      <th>Benefits</th>\n",
       "      <th>TotalPay</th>\n",
       "      <th>TotalPayBenefits</th>\n",
       "      <th>Year</th>\n",
       "      <th>Notes</th>\n",
       "      <th>Agency</th>\n",
       "      <th>Status</th>\n",
       "    </tr>\n",
       "  </thead>\n",
       "  <tbody>\n",
       "    <tr>\n",
       "      <th>0</th>\n",
       "      <td>1</td>\n",
       "      <td>NATHANIEL FORD</td>\n",
       "      <td>GENERAL MANAGER-METROPOLITAN TRANSIT AUTHORITY</td>\n",
       "      <td>167411.18</td>\n",
       "      <td>0.0</td>\n",
       "      <td>400184.25</td>\n",
       "      <td>NaN</td>\n",
       "      <td>567595.43</td>\n",
       "      <td>567595.43</td>\n",
       "      <td>2011</td>\n",
       "      <td>NaN</td>\n",
       "      <td>San Francisco</td>\n",
       "      <td>NaN</td>\n",
       "    </tr>\n",
       "    <tr>\n",
       "      <th>1</th>\n",
       "      <td>2</td>\n",
       "      <td>GARY JIMENEZ</td>\n",
       "      <td>CAPTAIN III (POLICE DEPARTMENT)</td>\n",
       "      <td>155966.02</td>\n",
       "      <td>245131.88</td>\n",
       "      <td>137811.38</td>\n",
       "      <td>NaN</td>\n",
       "      <td>538909.28</td>\n",
       "      <td>538909.28</td>\n",
       "      <td>2011</td>\n",
       "      <td>NaN</td>\n",
       "      <td>San Francisco</td>\n",
       "      <td>NaN</td>\n",
       "    </tr>\n",
       "    <tr>\n",
       "      <th>2</th>\n",
       "      <td>3</td>\n",
       "      <td>ALBERT PARDINI</td>\n",
       "      <td>CAPTAIN III (POLICE DEPARTMENT)</td>\n",
       "      <td>212739.13</td>\n",
       "      <td>106088.18</td>\n",
       "      <td>16452.6</td>\n",
       "      <td>NaN</td>\n",
       "      <td>335279.91</td>\n",
       "      <td>335279.91</td>\n",
       "      <td>2011</td>\n",
       "      <td>NaN</td>\n",
       "      <td>San Francisco</td>\n",
       "      <td>NaN</td>\n",
       "    </tr>\n",
       "    <tr>\n",
       "      <th>3</th>\n",
       "      <td>4</td>\n",
       "      <td>CHRISTOPHER CHONG</td>\n",
       "      <td>WIRE ROPE CABLE MAINTENANCE MECHANIC</td>\n",
       "      <td>77916.0</td>\n",
       "      <td>56120.71</td>\n",
       "      <td>198306.9</td>\n",
       "      <td>NaN</td>\n",
       "      <td>332343.61</td>\n",
       "      <td>332343.61</td>\n",
       "      <td>2011</td>\n",
       "      <td>NaN</td>\n",
       "      <td>San Francisco</td>\n",
       "      <td>NaN</td>\n",
       "    </tr>\n",
       "    <tr>\n",
       "      <th>4</th>\n",
       "      <td>5</td>\n",
       "      <td>PATRICK GARDNER</td>\n",
       "      <td>DEPUTY CHIEF OF DEPARTMENT,(FIRE DEPARTMENT)</td>\n",
       "      <td>134401.6</td>\n",
       "      <td>9737.0</td>\n",
       "      <td>182234.59</td>\n",
       "      <td>NaN</td>\n",
       "      <td>326373.19</td>\n",
       "      <td>326373.19</td>\n",
       "      <td>2011</td>\n",
       "      <td>NaN</td>\n",
       "      <td>San Francisco</td>\n",
       "      <td>NaN</td>\n",
       "    </tr>\n",
       "  </tbody>\n",
       "</table>\n",
       "</div>"
      ],
      "text/plain": [
       "   Id       EmployeeName                                        JobTitle  \\\n",
       "0   1     NATHANIEL FORD  GENERAL MANAGER-METROPOLITAN TRANSIT AUTHORITY   \n",
       "1   2       GARY JIMENEZ                 CAPTAIN III (POLICE DEPARTMENT)   \n",
       "2   3     ALBERT PARDINI                 CAPTAIN III (POLICE DEPARTMENT)   \n",
       "3   4  CHRISTOPHER CHONG            WIRE ROPE CABLE MAINTENANCE MECHANIC   \n",
       "4   5    PATRICK GARDNER    DEPUTY CHIEF OF DEPARTMENT,(FIRE DEPARTMENT)   \n",
       "\n",
       "     BasePay OvertimePay   OtherPay Benefits   TotalPay  TotalPayBenefits  \\\n",
       "0  167411.18         0.0  400184.25      NaN  567595.43         567595.43   \n",
       "1  155966.02   245131.88  137811.38      NaN  538909.28         538909.28   \n",
       "2  212739.13   106088.18    16452.6      NaN  335279.91         335279.91   \n",
       "3    77916.0    56120.71   198306.9      NaN  332343.61         332343.61   \n",
       "4   134401.6      9737.0  182234.59      NaN  326373.19         326373.19   \n",
       "\n",
       "   Year  Notes         Agency Status  \n",
       "0  2011    NaN  San Francisco    NaN  \n",
       "1  2011    NaN  San Francisco    NaN  \n",
       "2  2011    NaN  San Francisco    NaN  \n",
       "3  2011    NaN  San Francisco    NaN  \n",
       "4  2011    NaN  San Francisco    NaN  "
      ]
     },
     "execution_count": 248,
     "metadata": {},
     "output_type": "execute_result"
    }
   ],
   "source": [
    "data.head()"
   ]
  },
  {
   "cell_type": "markdown",
   "metadata": {
    "id": "78ppeI4czSx-"
   },
   "source": [
    "We see from looking at the `head` function that there is quite a bit of missing data. Get the amount of missing data in every column"
   ]
  },
  {
   "cell_type": "code",
   "execution_count": 249,
   "metadata": {},
   "outputs": [],
   "source": [
    "# Your code here:"
   ]
  },
  {
   "cell_type": "code",
   "execution_count": 250,
   "metadata": {
    "colab": {
     "base_uri": "https://localhost:8080/"
    },
    "id": "mqyrt17AzSx-",
    "outputId": "c0d862ff-8beb-417a-9b6e-2ae950c19492"
   },
   "outputs": [
    {
     "data": {
      "text/plain": [
       "Id                       0\n",
       "EmployeeName             0\n",
       "JobTitle                 0\n",
       "BasePay                605\n",
       "OvertimePay              0\n",
       "OtherPay                 0\n",
       "Benefits             36159\n",
       "TotalPay                 0\n",
       "TotalPayBenefits         0\n",
       "Year                     0\n",
       "Notes               148654\n",
       "Agency                   0\n",
       "Status              110535\n",
       "dtype: int64"
      ]
     },
     "execution_count": 250,
     "metadata": {},
     "output_type": "execute_result"
    }
   ],
   "source": [
    "data.isna().sum()"
   ]
  },
  {
   "cell_type": "markdown",
   "metadata": {
    "id": "P7_uHi3nzSx_"
   },
   "source": [
    "Get the shape of the dataframe"
   ]
  },
  {
   "cell_type": "code",
   "execution_count": 251,
   "metadata": {},
   "outputs": [],
   "source": [
    "# Your code here"
   ]
  },
  {
   "cell_type": "code",
   "execution_count": 252,
   "metadata": {
    "colab": {
     "base_uri": "https://localhost:8080/"
    },
    "id": "_cJvEdTgzSx_",
    "outputId": "61a90101-4466-42db-fc53-b2be109f586d"
   },
   "outputs": [
    {
     "data": {
      "text/plain": [
       "(148654, 13)"
      ]
     },
     "execution_count": 252,
     "metadata": {},
     "output_type": "execute_result"
    }
   ],
   "source": [
    "data.shape"
   ]
  },
  {
   "cell_type": "markdown",
   "metadata": {
    "id": "Dvi-WtBNzSyA"
   },
   "source": [
    "Given output of the previous two cells, drop the corresponding column and compute again the amount of missing values."
   ]
  },
  {
   "cell_type": "code",
   "execution_count": 253,
   "metadata": {},
   "outputs": [],
   "source": [
    "# Your code here"
   ]
  },
  {
   "cell_type": "code",
   "execution_count": 254,
   "metadata": {
    "colab": {
     "base_uri": "https://localhost:8080/"
    },
    "id": "qOynt6ZkzSyA",
    "outputId": "6e80e3ba-a79a-402d-e2be-996a8ab13c77"
   },
   "outputs": [
    {
     "data": {
      "text/plain": [
       "Id                       0\n",
       "EmployeeName             0\n",
       "JobTitle                 0\n",
       "BasePay                605\n",
       "OvertimePay              0\n",
       "OtherPay                 0\n",
       "Benefits             36159\n",
       "TotalPay                 0\n",
       "TotalPayBenefits         0\n",
       "Year                     0\n",
       "Agency                   0\n",
       "Status              110535\n",
       "dtype: int64"
      ]
     },
     "execution_count": 254,
     "metadata": {},
     "output_type": "execute_result"
    }
   ],
   "source": [
    "data = data.drop([\"Notes\"], axis = 1)\n",
    "data.isna().sum()"
   ]
  },
  {
   "cell_type": "markdown",
   "metadata": {
    "id": "wrIJFfY4zSyB"
   },
   "source": [
    "Check out what are the possible values of the column \"Status\"."
   ]
  },
  {
   "cell_type": "code",
   "execution_count": 255,
   "metadata": {},
   "outputs": [],
   "source": [
    "# Your code here"
   ]
  },
  {
   "cell_type": "code",
   "execution_count": 256,
   "metadata": {
    "colab": {
     "base_uri": "https://localhost:8080/"
    },
    "id": "3-rUObH9zSyB",
    "outputId": "8d9b940d-694c-401b-8535-d390e829acdc"
   },
   "outputs": [
    {
     "data": {
      "text/plain": [
       "array([nan, 'PT', 'FT'], dtype=object)"
      ]
     },
     "execution_count": 256,
     "metadata": {},
     "output_type": "execute_result"
    }
   ],
   "source": [
    "data[\"Status\"].unique()"
   ]
  },
  {
   "cell_type": "code",
   "execution_count": null,
   "metadata": {},
   "outputs": [],
   "source": []
  },
  {
   "cell_type": "markdown",
   "metadata": {
    "id": "s7c1YgwUzSyC"
   },
   "source": [
    "Drop any row with missing values in the \"Status\" column and compute again the number of missing values."
   ]
  },
  {
   "cell_type": "code",
   "execution_count": 257,
   "metadata": {},
   "outputs": [],
   "source": [
    "# Your code here"
   ]
  },
  {
   "cell_type": "code",
   "execution_count": 258,
   "metadata": {
    "id": "RNuimPv6zSyC"
   },
   "outputs": [],
   "source": [
    "# Your code here"
   ]
  },
  {
   "cell_type": "code",
   "execution_count": 259,
   "metadata": {
    "colab": {
     "base_uri": "https://localhost:8080/"
    },
    "id": "vZzzRW3ezSyC",
    "outputId": "719afa36-7982-4685-c606-195ea8e0f658"
   },
   "outputs": [
    {
     "data": {
      "text/plain": [
       "Id                  0\n",
       "EmployeeName        0\n",
       "JobTitle            0\n",
       "BasePay             0\n",
       "OvertimePay         0\n",
       "OtherPay            0\n",
       "Benefits            0\n",
       "TotalPay            0\n",
       "TotalPayBenefits    0\n",
       "Year                0\n",
       "Agency              0\n",
       "Status              0\n",
       "dtype: int64"
      ]
     },
     "execution_count": 259,
     "metadata": {},
     "output_type": "execute_result"
    }
   ],
   "source": [
    "data = data.dropna(subset=[\"Status\"])\n",
    "data.isna().sum()"
   ]
  },
  {
   "cell_type": "markdown",
   "metadata": {
    "id": "rxOUWb9AzSyD"
   },
   "source": [
    "Check out the types of each column and see if they make sense."
   ]
  },
  {
   "cell_type": "code",
   "execution_count": 260,
   "metadata": {},
   "outputs": [],
   "source": [
    "# Your code here"
   ]
  },
  {
   "cell_type": "code",
   "execution_count": 261,
   "metadata": {
    "colab": {
     "base_uri": "https://localhost:8080/"
    },
    "id": "MYtPT0MJzSyD",
    "outputId": "7fc00b2a-b36b-4e0d-fc11-3b87e284ce92"
   },
   "outputs": [
    {
     "name": "stdout",
     "output_type": "stream",
     "text": [
      "<class 'pandas.core.frame.DataFrame'>\n",
      "Int64Index: 38119 entries, 110531 to 148653\n",
      "Data columns (total 12 columns):\n",
      " #   Column            Non-Null Count  Dtype  \n",
      "---  ------            --------------  -----  \n",
      " 0   Id                38119 non-null  int64  \n",
      " 1   EmployeeName      38119 non-null  object \n",
      " 2   JobTitle          38119 non-null  object \n",
      " 3   BasePay           38119 non-null  object \n",
      " 4   OvertimePay       38119 non-null  object \n",
      " 5   OtherPay          38119 non-null  object \n",
      " 6   Benefits          38119 non-null  object \n",
      " 7   TotalPay          38119 non-null  float64\n",
      " 8   TotalPayBenefits  38119 non-null  float64\n",
      " 9   Year              38119 non-null  int64  \n",
      " 10  Agency            38119 non-null  object \n",
      " 11  Status            38119 non-null  object \n",
      "dtypes: float64(2), int64(2), object(8)\n",
      "memory usage: 3.8+ MB\n"
     ]
    }
   ],
   "source": [
    "data.info()"
   ]
  },
  {
   "cell_type": "code",
   "execution_count": 262,
   "metadata": {},
   "outputs": [],
   "source": [
    "# Your code here"
   ]
  },
  {
   "cell_type": "code",
   "execution_count": 263,
   "metadata": {
    "colab": {
     "base_uri": "https://localhost:8080/",
     "height": 374
    },
    "id": "8mJv_l6HzSyE",
    "outputId": "5dd1494c-537e-4a0b-c0c0-761ee64a00dd"
   },
   "outputs": [
    {
     "data": {
      "text/html": [
       "<div>\n",
       "<style scoped>\n",
       "    .dataframe tbody tr th:only-of-type {\n",
       "        vertical-align: middle;\n",
       "    }\n",
       "\n",
       "    .dataframe tbody tr th {\n",
       "        vertical-align: top;\n",
       "    }\n",
       "\n",
       "    .dataframe thead th {\n",
       "        text-align: right;\n",
       "    }\n",
       "</style>\n",
       "<table border=\"1\" class=\"dataframe\">\n",
       "  <thead>\n",
       "    <tr style=\"text-align: right;\">\n",
       "      <th></th>\n",
       "      <th>Id</th>\n",
       "      <th>EmployeeName</th>\n",
       "      <th>JobTitle</th>\n",
       "      <th>BasePay</th>\n",
       "      <th>OvertimePay</th>\n",
       "      <th>OtherPay</th>\n",
       "      <th>Benefits</th>\n",
       "      <th>TotalPay</th>\n",
       "      <th>TotalPayBenefits</th>\n",
       "      <th>Year</th>\n",
       "      <th>Agency</th>\n",
       "      <th>Status</th>\n",
       "    </tr>\n",
       "  </thead>\n",
       "  <tbody>\n",
       "    <tr>\n",
       "      <th>110531</th>\n",
       "      <td>110532</td>\n",
       "      <td>David Shinn</td>\n",
       "      <td>Deputy Chief 3</td>\n",
       "      <td>129150.01</td>\n",
       "      <td>0.0</td>\n",
       "      <td>342802.63</td>\n",
       "      <td>38780.04</td>\n",
       "      <td>471952.64</td>\n",
       "      <td>510732.68</td>\n",
       "      <td>2014</td>\n",
       "      <td>San Francisco</td>\n",
       "      <td>PT</td>\n",
       "    </tr>\n",
       "    <tr>\n",
       "      <th>110532</th>\n",
       "      <td>110533</td>\n",
       "      <td>Amy P Hart</td>\n",
       "      <td>Asst Med Examiner</td>\n",
       "      <td>318835.49</td>\n",
       "      <td>10712.95</td>\n",
       "      <td>60563.54</td>\n",
       "      <td>89540.23</td>\n",
       "      <td>390111.98</td>\n",
       "      <td>479652.21</td>\n",
       "      <td>2014</td>\n",
       "      <td>San Francisco</td>\n",
       "      <td>FT</td>\n",
       "    </tr>\n",
       "    <tr>\n",
       "      <th>110533</th>\n",
       "      <td>110534</td>\n",
       "      <td>William J Coaker Jr.</td>\n",
       "      <td>Chief Investment Officer</td>\n",
       "      <td>257340.0</td>\n",
       "      <td>0.0</td>\n",
       "      <td>82313.7</td>\n",
       "      <td>96570.66</td>\n",
       "      <td>339653.70</td>\n",
       "      <td>436224.36</td>\n",
       "      <td>2014</td>\n",
       "      <td>San Francisco</td>\n",
       "      <td>PT</td>\n",
       "    </tr>\n",
       "    <tr>\n",
       "      <th>110534</th>\n",
       "      <td>110535</td>\n",
       "      <td>Gregory P Suhr</td>\n",
       "      <td>Chief of Police</td>\n",
       "      <td>307450.04</td>\n",
       "      <td>0.0</td>\n",
       "      <td>19266.72</td>\n",
       "      <td>91302.46</td>\n",
       "      <td>326716.76</td>\n",
       "      <td>418019.22</td>\n",
       "      <td>2014</td>\n",
       "      <td>San Francisco</td>\n",
       "      <td>FT</td>\n",
       "    </tr>\n",
       "    <tr>\n",
       "      <th>110535</th>\n",
       "      <td>110536</td>\n",
       "      <td>Joanne M Hayes-White</td>\n",
       "      <td>Chief, Fire Department</td>\n",
       "      <td>302068.0</td>\n",
       "      <td>0.0</td>\n",
       "      <td>24165.44</td>\n",
       "      <td>91201.66</td>\n",
       "      <td>326233.44</td>\n",
       "      <td>417435.10</td>\n",
       "      <td>2014</td>\n",
       "      <td>San Francisco</td>\n",
       "      <td>FT</td>\n",
       "    </tr>\n",
       "    <tr>\n",
       "      <th>...</th>\n",
       "      <td>...</td>\n",
       "      <td>...</td>\n",
       "      <td>...</td>\n",
       "      <td>...</td>\n",
       "      <td>...</td>\n",
       "      <td>...</td>\n",
       "      <td>...</td>\n",
       "      <td>...</td>\n",
       "      <td>...</td>\n",
       "      <td>...</td>\n",
       "      <td>...</td>\n",
       "      <td>...</td>\n",
       "    </tr>\n",
       "    <tr>\n",
       "      <th>148645</th>\n",
       "      <td>148646</td>\n",
       "      <td>Carolyn A Wilson</td>\n",
       "      <td>Human Services Technician</td>\n",
       "      <td>0.00</td>\n",
       "      <td>0.00</td>\n",
       "      <td>0.00</td>\n",
       "      <td>0.00</td>\n",
       "      <td>0.00</td>\n",
       "      <td>0.00</td>\n",
       "      <td>2014</td>\n",
       "      <td>San Francisco</td>\n",
       "      <td>PT</td>\n",
       "    </tr>\n",
       "    <tr>\n",
       "      <th>148647</th>\n",
       "      <td>148648</td>\n",
       "      <td>Joann Anderson</td>\n",
       "      <td>Communications Dispatcher 2</td>\n",
       "      <td>0.00</td>\n",
       "      <td>0.00</td>\n",
       "      <td>0.00</td>\n",
       "      <td>0.00</td>\n",
       "      <td>0.00</td>\n",
       "      <td>0.00</td>\n",
       "      <td>2014</td>\n",
       "      <td>San Francisco</td>\n",
       "      <td>PT</td>\n",
       "    </tr>\n",
       "    <tr>\n",
       "      <th>148648</th>\n",
       "      <td>148649</td>\n",
       "      <td>Leon Walker</td>\n",
       "      <td>Custodian</td>\n",
       "      <td>0.00</td>\n",
       "      <td>0.00</td>\n",
       "      <td>0.00</td>\n",
       "      <td>0.00</td>\n",
       "      <td>0.00</td>\n",
       "      <td>0.00</td>\n",
       "      <td>2014</td>\n",
       "      <td>San Francisco</td>\n",
       "      <td>PT</td>\n",
       "    </tr>\n",
       "    <tr>\n",
       "      <th>148649</th>\n",
       "      <td>148650</td>\n",
       "      <td>Roy I Tillery</td>\n",
       "      <td>Custodian</td>\n",
       "      <td>0.00</td>\n",
       "      <td>0.00</td>\n",
       "      <td>0.00</td>\n",
       "      <td>0.00</td>\n",
       "      <td>0.00</td>\n",
       "      <td>0.00</td>\n",
       "      <td>2014</td>\n",
       "      <td>San Francisco</td>\n",
       "      <td>PT</td>\n",
       "    </tr>\n",
       "    <tr>\n",
       "      <th>148653</th>\n",
       "      <td>148654</td>\n",
       "      <td>Joe Lopez</td>\n",
       "      <td>Counselor, Log Cabin Ranch</td>\n",
       "      <td>0.00</td>\n",
       "      <td>0.00</td>\n",
       "      <td>-618.13</td>\n",
       "      <td>0.00</td>\n",
       "      <td>-618.13</td>\n",
       "      <td>-618.13</td>\n",
       "      <td>2014</td>\n",
       "      <td>San Francisco</td>\n",
       "      <td>PT</td>\n",
       "    </tr>\n",
       "  </tbody>\n",
       "</table>\n",
       "<p>38119 rows × 12 columns</p>\n",
       "</div>"
      ],
      "text/plain": [
       "            Id          EmployeeName                     JobTitle    BasePay  \\\n",
       "110531  110532           David Shinn               Deputy Chief 3  129150.01   \n",
       "110532  110533            Amy P Hart            Asst Med Examiner  318835.49   \n",
       "110533  110534  William J Coaker Jr.     Chief Investment Officer   257340.0   \n",
       "110534  110535        Gregory P Suhr              Chief of Police  307450.04   \n",
       "110535  110536  Joanne M Hayes-White       Chief, Fire Department   302068.0   \n",
       "...        ...                   ...                          ...        ...   \n",
       "148645  148646      Carolyn A Wilson    Human Services Technician       0.00   \n",
       "148647  148648        Joann Anderson  Communications Dispatcher 2       0.00   \n",
       "148648  148649           Leon Walker                    Custodian       0.00   \n",
       "148649  148650         Roy I Tillery                    Custodian       0.00   \n",
       "148653  148654             Joe Lopez   Counselor, Log Cabin Ranch       0.00   \n",
       "\n",
       "       OvertimePay   OtherPay  Benefits   TotalPay  TotalPayBenefits  Year  \\\n",
       "110531         0.0  342802.63  38780.04  471952.64         510732.68  2014   \n",
       "110532    10712.95   60563.54  89540.23  390111.98         479652.21  2014   \n",
       "110533         0.0    82313.7  96570.66  339653.70         436224.36  2014   \n",
       "110534         0.0   19266.72  91302.46  326716.76         418019.22  2014   \n",
       "110535         0.0   24165.44  91201.66  326233.44         417435.10  2014   \n",
       "...            ...        ...       ...        ...               ...   ...   \n",
       "148645        0.00       0.00      0.00       0.00              0.00  2014   \n",
       "148647        0.00       0.00      0.00       0.00              0.00  2014   \n",
       "148648        0.00       0.00      0.00       0.00              0.00  2014   \n",
       "148649        0.00       0.00      0.00       0.00              0.00  2014   \n",
       "148653        0.00    -618.13      0.00    -618.13           -618.13  2014   \n",
       "\n",
       "               Agency Status  \n",
       "110531  San Francisco     PT  \n",
       "110532  San Francisco     FT  \n",
       "110533  San Francisco     PT  \n",
       "110534  San Francisco     FT  \n",
       "110535  San Francisco     FT  \n",
       "...               ...    ...  \n",
       "148645  San Francisco     PT  \n",
       "148647  San Francisco     PT  \n",
       "148648  San Francisco     PT  \n",
       "148649  San Francisco     PT  \n",
       "148653  San Francisco     PT  \n",
       "\n",
       "[38119 rows x 12 columns]"
      ]
     },
     "execution_count": 263,
     "metadata": {},
     "output_type": "execute_result"
    }
   ],
   "source": [
    "data"
   ]
  },
  {
   "cell_type": "markdown",
   "metadata": {
    "id": "lLEKu7vxzSyE"
   },
   "source": [
    "Do any type conversions and reset the index."
   ]
  },
  {
   "cell_type": "code",
   "execution_count": 264,
   "metadata": {},
   "outputs": [],
   "source": [
    "# Your code here"
   ]
  },
  {
   "cell_type": "code",
   "execution_count": 265,
   "metadata": {
    "id": "ufFv58v_zSyE"
   },
   "outputs": [
    {
     "name": "stdout",
     "output_type": "stream",
     "text": [
      "<class 'pandas.core.frame.DataFrame'>\n",
      "Int64Index: 38119 entries, 110531 to 148653\n",
      "Data columns (total 12 columns):\n",
      " #   Column            Non-Null Count  Dtype  \n",
      "---  ------            --------------  -----  \n",
      " 0   Id                38119 non-null  int64  \n",
      " 1   EmployeeName      38119 non-null  object \n",
      " 2   JobTitle          38119 non-null  object \n",
      " 3   BasePay           38119 non-null  float64\n",
      " 4   OvertimePay       38119 non-null  float64\n",
      " 5   OtherPay          38119 non-null  float64\n",
      " 6   Benefits          38119 non-null  float64\n",
      " 7   TotalPay          38119 non-null  float64\n",
      " 8   TotalPayBenefits  38119 non-null  float64\n",
      " 9   Year              38119 non-null  int64  \n",
      " 10  Agency            38119 non-null  object \n",
      " 11  Status            38119 non-null  object \n",
      "dtypes: float64(6), int64(2), object(4)\n",
      "memory usage: 3.8+ MB\n"
     ]
    }
   ],
   "source": [
    "cols = [\"BasePay\", \"OvertimePay\", \"OtherPay\", \"Benefits\"]\n",
    "for col in cols:\n",
    "    data[col] = pd.to_numeric(data[col])\n",
    "\n",
    "data.info()"
   ]
  },
  {
   "cell_type": "code",
   "execution_count": 266,
   "metadata": {},
   "outputs": [],
   "source": [
    "# Your code here"
   ]
  },
  {
   "cell_type": "code",
   "execution_count": 267,
   "metadata": {
    "colab": {
     "base_uri": "https://localhost:8080/",
     "height": 374
    },
    "id": "mf7huPFRzSyF",
    "outputId": "3d84ce08-71e7-4121-91ea-bc6e777d0b9f"
   },
   "outputs": [
    {
     "data": {
      "text/html": [
       "<div>\n",
       "<style scoped>\n",
       "    .dataframe tbody tr th:only-of-type {\n",
       "        vertical-align: middle;\n",
       "    }\n",
       "\n",
       "    .dataframe tbody tr th {\n",
       "        vertical-align: top;\n",
       "    }\n",
       "\n",
       "    .dataframe thead th {\n",
       "        text-align: right;\n",
       "    }\n",
       "</style>\n",
       "<table border=\"1\" class=\"dataframe\">\n",
       "  <thead>\n",
       "    <tr style=\"text-align: right;\">\n",
       "      <th></th>\n",
       "      <th>index</th>\n",
       "      <th>Id</th>\n",
       "      <th>EmployeeName</th>\n",
       "      <th>JobTitle</th>\n",
       "      <th>BasePay</th>\n",
       "      <th>OvertimePay</th>\n",
       "      <th>OtherPay</th>\n",
       "      <th>Benefits</th>\n",
       "      <th>TotalPay</th>\n",
       "      <th>TotalPayBenefits</th>\n",
       "      <th>Year</th>\n",
       "      <th>Agency</th>\n",
       "      <th>Status</th>\n",
       "    </tr>\n",
       "  </thead>\n",
       "  <tbody>\n",
       "    <tr>\n",
       "      <th>0</th>\n",
       "      <td>110531</td>\n",
       "      <td>110532</td>\n",
       "      <td>David Shinn</td>\n",
       "      <td>Deputy Chief 3</td>\n",
       "      <td>129150.01</td>\n",
       "      <td>0.00</td>\n",
       "      <td>342802.63</td>\n",
       "      <td>38780.04</td>\n",
       "      <td>471952.64</td>\n",
       "      <td>510732.68</td>\n",
       "      <td>2014</td>\n",
       "      <td>San Francisco</td>\n",
       "      <td>PT</td>\n",
       "    </tr>\n",
       "    <tr>\n",
       "      <th>1</th>\n",
       "      <td>110532</td>\n",
       "      <td>110533</td>\n",
       "      <td>Amy P Hart</td>\n",
       "      <td>Asst Med Examiner</td>\n",
       "      <td>318835.49</td>\n",
       "      <td>10712.95</td>\n",
       "      <td>60563.54</td>\n",
       "      <td>89540.23</td>\n",
       "      <td>390111.98</td>\n",
       "      <td>479652.21</td>\n",
       "      <td>2014</td>\n",
       "      <td>San Francisco</td>\n",
       "      <td>FT</td>\n",
       "    </tr>\n",
       "    <tr>\n",
       "      <th>2</th>\n",
       "      <td>110533</td>\n",
       "      <td>110534</td>\n",
       "      <td>William J Coaker Jr.</td>\n",
       "      <td>Chief Investment Officer</td>\n",
       "      <td>257340.00</td>\n",
       "      <td>0.00</td>\n",
       "      <td>82313.70</td>\n",
       "      <td>96570.66</td>\n",
       "      <td>339653.70</td>\n",
       "      <td>436224.36</td>\n",
       "      <td>2014</td>\n",
       "      <td>San Francisco</td>\n",
       "      <td>PT</td>\n",
       "    </tr>\n",
       "    <tr>\n",
       "      <th>3</th>\n",
       "      <td>110534</td>\n",
       "      <td>110535</td>\n",
       "      <td>Gregory P Suhr</td>\n",
       "      <td>Chief of Police</td>\n",
       "      <td>307450.04</td>\n",
       "      <td>0.00</td>\n",
       "      <td>19266.72</td>\n",
       "      <td>91302.46</td>\n",
       "      <td>326716.76</td>\n",
       "      <td>418019.22</td>\n",
       "      <td>2014</td>\n",
       "      <td>San Francisco</td>\n",
       "      <td>FT</td>\n",
       "    </tr>\n",
       "    <tr>\n",
       "      <th>4</th>\n",
       "      <td>110535</td>\n",
       "      <td>110536</td>\n",
       "      <td>Joanne M Hayes-White</td>\n",
       "      <td>Chief, Fire Department</td>\n",
       "      <td>302068.00</td>\n",
       "      <td>0.00</td>\n",
       "      <td>24165.44</td>\n",
       "      <td>91201.66</td>\n",
       "      <td>326233.44</td>\n",
       "      <td>417435.10</td>\n",
       "      <td>2014</td>\n",
       "      <td>San Francisco</td>\n",
       "      <td>FT</td>\n",
       "    </tr>\n",
       "    <tr>\n",
       "      <th>...</th>\n",
       "      <td>...</td>\n",
       "      <td>...</td>\n",
       "      <td>...</td>\n",
       "      <td>...</td>\n",
       "      <td>...</td>\n",
       "      <td>...</td>\n",
       "      <td>...</td>\n",
       "      <td>...</td>\n",
       "      <td>...</td>\n",
       "      <td>...</td>\n",
       "      <td>...</td>\n",
       "      <td>...</td>\n",
       "      <td>...</td>\n",
       "    </tr>\n",
       "    <tr>\n",
       "      <th>38114</th>\n",
       "      <td>148645</td>\n",
       "      <td>148646</td>\n",
       "      <td>Carolyn A Wilson</td>\n",
       "      <td>Human Services Technician</td>\n",
       "      <td>0.00</td>\n",
       "      <td>0.00</td>\n",
       "      <td>0.00</td>\n",
       "      <td>0.00</td>\n",
       "      <td>0.00</td>\n",
       "      <td>0.00</td>\n",
       "      <td>2014</td>\n",
       "      <td>San Francisco</td>\n",
       "      <td>PT</td>\n",
       "    </tr>\n",
       "    <tr>\n",
       "      <th>38115</th>\n",
       "      <td>148647</td>\n",
       "      <td>148648</td>\n",
       "      <td>Joann Anderson</td>\n",
       "      <td>Communications Dispatcher 2</td>\n",
       "      <td>0.00</td>\n",
       "      <td>0.00</td>\n",
       "      <td>0.00</td>\n",
       "      <td>0.00</td>\n",
       "      <td>0.00</td>\n",
       "      <td>0.00</td>\n",
       "      <td>2014</td>\n",
       "      <td>San Francisco</td>\n",
       "      <td>PT</td>\n",
       "    </tr>\n",
       "    <tr>\n",
       "      <th>38116</th>\n",
       "      <td>148648</td>\n",
       "      <td>148649</td>\n",
       "      <td>Leon Walker</td>\n",
       "      <td>Custodian</td>\n",
       "      <td>0.00</td>\n",
       "      <td>0.00</td>\n",
       "      <td>0.00</td>\n",
       "      <td>0.00</td>\n",
       "      <td>0.00</td>\n",
       "      <td>0.00</td>\n",
       "      <td>2014</td>\n",
       "      <td>San Francisco</td>\n",
       "      <td>PT</td>\n",
       "    </tr>\n",
       "    <tr>\n",
       "      <th>38117</th>\n",
       "      <td>148649</td>\n",
       "      <td>148650</td>\n",
       "      <td>Roy I Tillery</td>\n",
       "      <td>Custodian</td>\n",
       "      <td>0.00</td>\n",
       "      <td>0.00</td>\n",
       "      <td>0.00</td>\n",
       "      <td>0.00</td>\n",
       "      <td>0.00</td>\n",
       "      <td>0.00</td>\n",
       "      <td>2014</td>\n",
       "      <td>San Francisco</td>\n",
       "      <td>PT</td>\n",
       "    </tr>\n",
       "    <tr>\n",
       "      <th>38118</th>\n",
       "      <td>148653</td>\n",
       "      <td>148654</td>\n",
       "      <td>Joe Lopez</td>\n",
       "      <td>Counselor, Log Cabin Ranch</td>\n",
       "      <td>0.00</td>\n",
       "      <td>0.00</td>\n",
       "      <td>-618.13</td>\n",
       "      <td>0.00</td>\n",
       "      <td>-618.13</td>\n",
       "      <td>-618.13</td>\n",
       "      <td>2014</td>\n",
       "      <td>San Francisco</td>\n",
       "      <td>PT</td>\n",
       "    </tr>\n",
       "  </tbody>\n",
       "</table>\n",
       "<p>38119 rows × 13 columns</p>\n",
       "</div>"
      ],
      "text/plain": [
       "        index      Id          EmployeeName                     JobTitle  \\\n",
       "0      110531  110532           David Shinn               Deputy Chief 3   \n",
       "1      110532  110533            Amy P Hart            Asst Med Examiner   \n",
       "2      110533  110534  William J Coaker Jr.     Chief Investment Officer   \n",
       "3      110534  110535        Gregory P Suhr              Chief of Police   \n",
       "4      110535  110536  Joanne M Hayes-White       Chief, Fire Department   \n",
       "...       ...     ...                   ...                          ...   \n",
       "38114  148645  148646      Carolyn A Wilson    Human Services Technician   \n",
       "38115  148647  148648        Joann Anderson  Communications Dispatcher 2   \n",
       "38116  148648  148649           Leon Walker                    Custodian   \n",
       "38117  148649  148650         Roy I Tillery                    Custodian   \n",
       "38118  148653  148654             Joe Lopez   Counselor, Log Cabin Ranch   \n",
       "\n",
       "         BasePay  OvertimePay   OtherPay  Benefits   TotalPay  \\\n",
       "0      129150.01         0.00  342802.63  38780.04  471952.64   \n",
       "1      318835.49     10712.95   60563.54  89540.23  390111.98   \n",
       "2      257340.00         0.00   82313.70  96570.66  339653.70   \n",
       "3      307450.04         0.00   19266.72  91302.46  326716.76   \n",
       "4      302068.00         0.00   24165.44  91201.66  326233.44   \n",
       "...          ...          ...        ...       ...        ...   \n",
       "38114       0.00         0.00       0.00      0.00       0.00   \n",
       "38115       0.00         0.00       0.00      0.00       0.00   \n",
       "38116       0.00         0.00       0.00      0.00       0.00   \n",
       "38117       0.00         0.00       0.00      0.00       0.00   \n",
       "38118       0.00         0.00    -618.13      0.00    -618.13   \n",
       "\n",
       "       TotalPayBenefits  Year         Agency Status  \n",
       "0             510732.68  2014  San Francisco     PT  \n",
       "1             479652.21  2014  San Francisco     FT  \n",
       "2             436224.36  2014  San Francisco     PT  \n",
       "3             418019.22  2014  San Francisco     FT  \n",
       "4             417435.10  2014  San Francisco     FT  \n",
       "...                 ...   ...            ...    ...  \n",
       "38114              0.00  2014  San Francisco     PT  \n",
       "38115              0.00  2014  San Francisco     PT  \n",
       "38116              0.00  2014  San Francisco     PT  \n",
       "38117              0.00  2014  San Francisco     PT  \n",
       "38118           -618.13  2014  San Francisco     PT  \n",
       "\n",
       "[38119 rows x 13 columns]"
      ]
     },
     "execution_count": 267,
     "metadata": {},
     "output_type": "execute_result"
    }
   ],
   "source": [
    "data = data.reset_index()\n",
    "data"
   ]
  },
  {
   "cell_type": "markdown",
   "metadata": {
    "id": "2DNK_QLozSyF"
   },
   "source": [
    "Check out if \"TotalPayBenefits\" = \"BasePay\" + \"OvertimePay\" + \"OtherPay\" + \"Benefits\""
   ]
  },
  {
   "cell_type": "code",
   "execution_count": 268,
   "metadata": {},
   "outputs": [],
   "source": [
    "# Your code here"
   ]
  },
  {
   "cell_type": "code",
   "execution_count": 269,
   "metadata": {
    "colab": {
     "base_uri": "https://localhost:8080/"
    },
    "id": "XuydOtmBzSyF",
    "outputId": "83cd3939-89ec-4e36-dda8-ebb4b8e49013"
   },
   "outputs": [
    {
     "data": {
      "text/plain": [
       "0         True\n",
       "1        False\n",
       "2         True\n",
       "3        False\n",
       "4         True\n",
       "         ...  \n",
       "38114     True\n",
       "38115     True\n",
       "38116     True\n",
       "38117     True\n",
       "38118     True\n",
       "Length: 38119, dtype: bool"
      ]
     },
     "execution_count": 269,
     "metadata": {},
     "output_type": "execute_result"
    }
   ],
   "source": [
    "data[\"Total2\"] = data[\"BasePay\"] + data[\"OvertimePay\"] + data[\"OtherPay\"] + data[\"Benefits\"]\n",
    "data[\"Total2\"] == data[\"TotalPayBenefits\"]"
   ]
  },
  {
   "cell_type": "markdown",
   "metadata": {
    "id": "65AtoiMDzSyF"
   },
   "source": [
    "What is the percetage of employees for which the previous assumption is not True?"
   ]
  },
  {
   "cell_type": "code",
   "execution_count": 270,
   "metadata": {},
   "outputs": [],
   "source": [
    "# Your code here:"
   ]
  },
  {
   "cell_type": "code",
   "execution_count": 271,
   "metadata": {
    "colab": {
     "base_uri": "https://localhost:8080/"
    },
    "id": "WQSlyYKfzSyG",
    "outputId": "db98ca20-db17-4900-c441-896b1d3ae1de"
   },
   "outputs": [
    {
     "data": {
      "text/plain": [
       "True     73.708649\n",
       "False    26.291351\n",
       "dtype: float64"
      ]
     },
     "execution_count": 271,
     "metadata": {},
     "output_type": "execute_result"
    }
   ],
   "source": [
    "total_bool = (data[\"Total2\"] == data[\"TotalPayBenefits\"])\n",
    "total_bool.value_counts(normalize = True)*100"
   ]
  },
  {
   "cell_type": "markdown",
   "metadata": {
    "id": "hxAKJ0grzSyG"
   },
   "source": [
    "There are different departments in the city. List all departments and the count of employees in each department."
   ]
  },
  {
   "cell_type": "code",
   "execution_count": 272,
   "metadata": {},
   "outputs": [],
   "source": [
    "# Your code here:"
   ]
  },
  {
   "cell_type": "code",
   "execution_count": 273,
   "metadata": {
    "colab": {
     "base_uri": "https://localhost:8080/",
     "height": 455
    },
    "id": "rIP5w8uqzSyG",
    "outputId": "792a6c68-1553-489f-b021-6a1f1eb2fc75",
    "scrolled": true
   },
   "outputs": [
    {
     "data": {
      "text/html": [
       "<div>\n",
       "<style scoped>\n",
       "    .dataframe tbody tr th:only-of-type {\n",
       "        vertical-align: middle;\n",
       "    }\n",
       "\n",
       "    .dataframe tbody tr th {\n",
       "        vertical-align: top;\n",
       "    }\n",
       "\n",
       "    .dataframe thead th {\n",
       "        text-align: right;\n",
       "    }\n",
       "</style>\n",
       "<table border=\"1\" class=\"dataframe\">\n",
       "  <thead>\n",
       "    <tr style=\"text-align: right;\">\n",
       "      <th></th>\n",
       "      <th>EmployeeName</th>\n",
       "    </tr>\n",
       "    <tr>\n",
       "      <th>JobTitle</th>\n",
       "      <th></th>\n",
       "    </tr>\n",
       "  </thead>\n",
       "  <tbody>\n",
       "    <tr>\n",
       "      <th>ACPO,JuvP, Juv Prob (SFERS)</th>\n",
       "      <td>1</td>\n",
       "    </tr>\n",
       "    <tr>\n",
       "      <th>ASR Senior Office Specialist</th>\n",
       "      <td>22</td>\n",
       "    </tr>\n",
       "    <tr>\n",
       "      <th>ASR-Office Assistant</th>\n",
       "      <td>15</td>\n",
       "    </tr>\n",
       "    <tr>\n",
       "      <th>Account Clerk</th>\n",
       "      <td>93</td>\n",
       "    </tr>\n",
       "    <tr>\n",
       "      <th>Accountant I</th>\n",
       "      <td>2</td>\n",
       "    </tr>\n",
       "    <tr>\n",
       "      <th>...</th>\n",
       "      <td>...</td>\n",
       "    </tr>\n",
       "    <tr>\n",
       "      <th>Wire Rope Cable Maint Sprv</th>\n",
       "      <td>1</td>\n",
       "    </tr>\n",
       "    <tr>\n",
       "      <th>Worker's Comp Supervisor 1</th>\n",
       "      <td>6</td>\n",
       "    </tr>\n",
       "    <tr>\n",
       "      <th>Worker's Compensation Adjuster</th>\n",
       "      <td>26</td>\n",
       "    </tr>\n",
       "    <tr>\n",
       "      <th>X-Ray Laboratory Aide</th>\n",
       "      <td>35</td>\n",
       "    </tr>\n",
       "    <tr>\n",
       "      <th>Youth Comm Advisor</th>\n",
       "      <td>1</td>\n",
       "    </tr>\n",
       "  </tbody>\n",
       "</table>\n",
       "<p>996 rows × 1 columns</p>\n",
       "</div>"
      ],
      "text/plain": [
       "                                EmployeeName\n",
       "JobTitle                                    \n",
       "ACPO,JuvP, Juv Prob (SFERS)                1\n",
       "ASR Senior Office Specialist              22\n",
       "ASR-Office Assistant                      15\n",
       "Account Clerk                             93\n",
       "Accountant I                               2\n",
       "...                                      ...\n",
       "Wire Rope Cable Maint Sprv                 1\n",
       "Worker's Comp Supervisor 1                 6\n",
       "Worker's Compensation Adjuster            26\n",
       "X-Ray Laboratory Aide                     35\n",
       "Youth Comm Advisor                         1\n",
       "\n",
       "[996 rows x 1 columns]"
      ]
     },
     "execution_count": 273,
     "metadata": {},
     "output_type": "execute_result"
    }
   ],
   "source": [
    "data.groupby([\"JobTitle\"]).agg({\"EmployeeName\":\"count\"})"
   ]
  },
  {
   "cell_type": "markdown",
   "metadata": {
    "id": "eBkEuDaLzSyG"
   },
   "source": [
    "# Challenge 2 - Hypothesis Tests\n",
    "\n",
    "In this section of the lab, we will test whether the hourly wage of **all FT workers is significantly different from $75/hr**. Get first the hourly wage by dividing \"TotalPayBenefits\" by 50 weeks (assuming 10 labour days of holidays) and by 40hrs (assuming a 40hrs week).\n",
    "\n",
    "$$Hourly Wage = \\frac{TotalPayBenefits}{1 year}\\frac{1 year}{50 Week}\\frac{1 Week}{40 hr}$$\n",
    "\n",
    "Import the correct one sample test function from scipy and perform the hypothesis test for a 95% two sided confidence interval."
   ]
  },
  {
   "cell_type": "code",
   "execution_count": 274,
   "metadata": {},
   "outputs": [],
   "source": [
    "# Your code here: (compute the \"Hourly_Wage\")"
   ]
  },
  {
   "cell_type": "code",
   "execution_count": 275,
   "metadata": {
    "colab": {
     "base_uri": "https://localhost:8080/",
     "height": 374
    },
    "id": "ELuWVlkczSyH",
    "outputId": "1acd9c1f-b72c-475a-f1fe-f17450539be3"
   },
   "outputs": [
    {
     "data": {
      "text/html": [
       "<div>\n",
       "<style scoped>\n",
       "    .dataframe tbody tr th:only-of-type {\n",
       "        vertical-align: middle;\n",
       "    }\n",
       "\n",
       "    .dataframe tbody tr th {\n",
       "        vertical-align: top;\n",
       "    }\n",
       "\n",
       "    .dataframe thead th {\n",
       "        text-align: right;\n",
       "    }\n",
       "</style>\n",
       "<table border=\"1\" class=\"dataframe\">\n",
       "  <thead>\n",
       "    <tr style=\"text-align: right;\">\n",
       "      <th></th>\n",
       "      <th>index</th>\n",
       "      <th>Id</th>\n",
       "      <th>EmployeeName</th>\n",
       "      <th>JobTitle</th>\n",
       "      <th>BasePay</th>\n",
       "      <th>OvertimePay</th>\n",
       "      <th>OtherPay</th>\n",
       "      <th>Benefits</th>\n",
       "      <th>TotalPay</th>\n",
       "      <th>TotalPayBenefits</th>\n",
       "      <th>Year</th>\n",
       "      <th>Agency</th>\n",
       "      <th>Status</th>\n",
       "      <th>Total2</th>\n",
       "      <th>Hourly_wage</th>\n",
       "    </tr>\n",
       "  </thead>\n",
       "  <tbody>\n",
       "    <tr>\n",
       "      <th>0</th>\n",
       "      <td>110531</td>\n",
       "      <td>110532</td>\n",
       "      <td>David Shinn</td>\n",
       "      <td>Deputy Chief 3</td>\n",
       "      <td>129150.01</td>\n",
       "      <td>0.00</td>\n",
       "      <td>342802.63</td>\n",
       "      <td>38780.04</td>\n",
       "      <td>471952.64</td>\n",
       "      <td>510732.68</td>\n",
       "      <td>2014</td>\n",
       "      <td>San Francisco</td>\n",
       "      <td>PT</td>\n",
       "      <td>510732.68</td>\n",
       "      <td>255.366340</td>\n",
       "    </tr>\n",
       "    <tr>\n",
       "      <th>1</th>\n",
       "      <td>110532</td>\n",
       "      <td>110533</td>\n",
       "      <td>Amy P Hart</td>\n",
       "      <td>Asst Med Examiner</td>\n",
       "      <td>318835.49</td>\n",
       "      <td>10712.95</td>\n",
       "      <td>60563.54</td>\n",
       "      <td>89540.23</td>\n",
       "      <td>390111.98</td>\n",
       "      <td>479652.21</td>\n",
       "      <td>2014</td>\n",
       "      <td>San Francisco</td>\n",
       "      <td>FT</td>\n",
       "      <td>479652.21</td>\n",
       "      <td>239.826105</td>\n",
       "    </tr>\n",
       "    <tr>\n",
       "      <th>2</th>\n",
       "      <td>110533</td>\n",
       "      <td>110534</td>\n",
       "      <td>William J Coaker Jr.</td>\n",
       "      <td>Chief Investment Officer</td>\n",
       "      <td>257340.00</td>\n",
       "      <td>0.00</td>\n",
       "      <td>82313.70</td>\n",
       "      <td>96570.66</td>\n",
       "      <td>339653.70</td>\n",
       "      <td>436224.36</td>\n",
       "      <td>2014</td>\n",
       "      <td>San Francisco</td>\n",
       "      <td>PT</td>\n",
       "      <td>436224.36</td>\n",
       "      <td>218.112180</td>\n",
       "    </tr>\n",
       "    <tr>\n",
       "      <th>3</th>\n",
       "      <td>110534</td>\n",
       "      <td>110535</td>\n",
       "      <td>Gregory P Suhr</td>\n",
       "      <td>Chief of Police</td>\n",
       "      <td>307450.04</td>\n",
       "      <td>0.00</td>\n",
       "      <td>19266.72</td>\n",
       "      <td>91302.46</td>\n",
       "      <td>326716.76</td>\n",
       "      <td>418019.22</td>\n",
       "      <td>2014</td>\n",
       "      <td>San Francisco</td>\n",
       "      <td>FT</td>\n",
       "      <td>418019.22</td>\n",
       "      <td>209.009610</td>\n",
       "    </tr>\n",
       "    <tr>\n",
       "      <th>4</th>\n",
       "      <td>110535</td>\n",
       "      <td>110536</td>\n",
       "      <td>Joanne M Hayes-White</td>\n",
       "      <td>Chief, Fire Department</td>\n",
       "      <td>302068.00</td>\n",
       "      <td>0.00</td>\n",
       "      <td>24165.44</td>\n",
       "      <td>91201.66</td>\n",
       "      <td>326233.44</td>\n",
       "      <td>417435.10</td>\n",
       "      <td>2014</td>\n",
       "      <td>San Francisco</td>\n",
       "      <td>FT</td>\n",
       "      <td>417435.10</td>\n",
       "      <td>208.717550</td>\n",
       "    </tr>\n",
       "    <tr>\n",
       "      <th>...</th>\n",
       "      <td>...</td>\n",
       "      <td>...</td>\n",
       "      <td>...</td>\n",
       "      <td>...</td>\n",
       "      <td>...</td>\n",
       "      <td>...</td>\n",
       "      <td>...</td>\n",
       "      <td>...</td>\n",
       "      <td>...</td>\n",
       "      <td>...</td>\n",
       "      <td>...</td>\n",
       "      <td>...</td>\n",
       "      <td>...</td>\n",
       "      <td>...</td>\n",
       "      <td>...</td>\n",
       "    </tr>\n",
       "    <tr>\n",
       "      <th>38114</th>\n",
       "      <td>148645</td>\n",
       "      <td>148646</td>\n",
       "      <td>Carolyn A Wilson</td>\n",
       "      <td>Human Services Technician</td>\n",
       "      <td>0.00</td>\n",
       "      <td>0.00</td>\n",
       "      <td>0.00</td>\n",
       "      <td>0.00</td>\n",
       "      <td>0.00</td>\n",
       "      <td>0.00</td>\n",
       "      <td>2014</td>\n",
       "      <td>San Francisco</td>\n",
       "      <td>PT</td>\n",
       "      <td>0.00</td>\n",
       "      <td>0.000000</td>\n",
       "    </tr>\n",
       "    <tr>\n",
       "      <th>38115</th>\n",
       "      <td>148647</td>\n",
       "      <td>148648</td>\n",
       "      <td>Joann Anderson</td>\n",
       "      <td>Communications Dispatcher 2</td>\n",
       "      <td>0.00</td>\n",
       "      <td>0.00</td>\n",
       "      <td>0.00</td>\n",
       "      <td>0.00</td>\n",
       "      <td>0.00</td>\n",
       "      <td>0.00</td>\n",
       "      <td>2014</td>\n",
       "      <td>San Francisco</td>\n",
       "      <td>PT</td>\n",
       "      <td>0.00</td>\n",
       "      <td>0.000000</td>\n",
       "    </tr>\n",
       "    <tr>\n",
       "      <th>38116</th>\n",
       "      <td>148648</td>\n",
       "      <td>148649</td>\n",
       "      <td>Leon Walker</td>\n",
       "      <td>Custodian</td>\n",
       "      <td>0.00</td>\n",
       "      <td>0.00</td>\n",
       "      <td>0.00</td>\n",
       "      <td>0.00</td>\n",
       "      <td>0.00</td>\n",
       "      <td>0.00</td>\n",
       "      <td>2014</td>\n",
       "      <td>San Francisco</td>\n",
       "      <td>PT</td>\n",
       "      <td>0.00</td>\n",
       "      <td>0.000000</td>\n",
       "    </tr>\n",
       "    <tr>\n",
       "      <th>38117</th>\n",
       "      <td>148649</td>\n",
       "      <td>148650</td>\n",
       "      <td>Roy I Tillery</td>\n",
       "      <td>Custodian</td>\n",
       "      <td>0.00</td>\n",
       "      <td>0.00</td>\n",
       "      <td>0.00</td>\n",
       "      <td>0.00</td>\n",
       "      <td>0.00</td>\n",
       "      <td>0.00</td>\n",
       "      <td>2014</td>\n",
       "      <td>San Francisco</td>\n",
       "      <td>PT</td>\n",
       "      <td>0.00</td>\n",
       "      <td>0.000000</td>\n",
       "    </tr>\n",
       "    <tr>\n",
       "      <th>38118</th>\n",
       "      <td>148653</td>\n",
       "      <td>148654</td>\n",
       "      <td>Joe Lopez</td>\n",
       "      <td>Counselor, Log Cabin Ranch</td>\n",
       "      <td>0.00</td>\n",
       "      <td>0.00</td>\n",
       "      <td>-618.13</td>\n",
       "      <td>0.00</td>\n",
       "      <td>-618.13</td>\n",
       "      <td>-618.13</td>\n",
       "      <td>2014</td>\n",
       "      <td>San Francisco</td>\n",
       "      <td>PT</td>\n",
       "      <td>-618.13</td>\n",
       "      <td>-0.309065</td>\n",
       "    </tr>\n",
       "  </tbody>\n",
       "</table>\n",
       "<p>38119 rows × 15 columns</p>\n",
       "</div>"
      ],
      "text/plain": [
       "        index      Id          EmployeeName                     JobTitle  \\\n",
       "0      110531  110532           David Shinn               Deputy Chief 3   \n",
       "1      110532  110533            Amy P Hart            Asst Med Examiner   \n",
       "2      110533  110534  William J Coaker Jr.     Chief Investment Officer   \n",
       "3      110534  110535        Gregory P Suhr              Chief of Police   \n",
       "4      110535  110536  Joanne M Hayes-White       Chief, Fire Department   \n",
       "...       ...     ...                   ...                          ...   \n",
       "38114  148645  148646      Carolyn A Wilson    Human Services Technician   \n",
       "38115  148647  148648        Joann Anderson  Communications Dispatcher 2   \n",
       "38116  148648  148649           Leon Walker                    Custodian   \n",
       "38117  148649  148650         Roy I Tillery                    Custodian   \n",
       "38118  148653  148654             Joe Lopez   Counselor, Log Cabin Ranch   \n",
       "\n",
       "         BasePay  OvertimePay   OtherPay  Benefits   TotalPay  \\\n",
       "0      129150.01         0.00  342802.63  38780.04  471952.64   \n",
       "1      318835.49     10712.95   60563.54  89540.23  390111.98   \n",
       "2      257340.00         0.00   82313.70  96570.66  339653.70   \n",
       "3      307450.04         0.00   19266.72  91302.46  326716.76   \n",
       "4      302068.00         0.00   24165.44  91201.66  326233.44   \n",
       "...          ...          ...        ...       ...        ...   \n",
       "38114       0.00         0.00       0.00      0.00       0.00   \n",
       "38115       0.00         0.00       0.00      0.00       0.00   \n",
       "38116       0.00         0.00       0.00      0.00       0.00   \n",
       "38117       0.00         0.00       0.00      0.00       0.00   \n",
       "38118       0.00         0.00    -618.13      0.00    -618.13   \n",
       "\n",
       "       TotalPayBenefits  Year         Agency Status     Total2  Hourly_wage  \n",
       "0             510732.68  2014  San Francisco     PT  510732.68   255.366340  \n",
       "1             479652.21  2014  San Francisco     FT  479652.21   239.826105  \n",
       "2             436224.36  2014  San Francisco     PT  436224.36   218.112180  \n",
       "3             418019.22  2014  San Francisco     FT  418019.22   209.009610  \n",
       "4             417435.10  2014  San Francisco     FT  417435.10   208.717550  \n",
       "...                 ...   ...            ...    ...        ...          ...  \n",
       "38114              0.00  2014  San Francisco     PT       0.00     0.000000  \n",
       "38115              0.00  2014  San Francisco     PT       0.00     0.000000  \n",
       "38116              0.00  2014  San Francisco     PT       0.00     0.000000  \n",
       "38117              0.00  2014  San Francisco     PT       0.00     0.000000  \n",
       "38118           -618.13  2014  San Francisco     PT    -618.13    -0.309065  \n",
       "\n",
       "[38119 rows x 15 columns]"
      ]
     },
     "execution_count": 275,
     "metadata": {},
     "output_type": "execute_result"
    }
   ],
   "source": [
    "data[\"Hourly_wage\"] = data[\"TotalPayBenefits\"]/2000\n",
    "data"
   ]
  },
  {
   "cell_type": "code",
   "execution_count": 276,
   "metadata": {},
   "outputs": [],
   "source": [
    "# Your code here: (Compute the mean hourly wage for all the \"FT\" employees)"
   ]
  },
  {
   "cell_type": "code",
   "execution_count": 277,
   "metadata": {
    "colab": {
     "base_uri": "https://localhost:8080/"
    },
    "id": "HZLcwczBzSyH",
    "outputId": "4f607da2-4d79-48cf-d176-f85c64df2848"
   },
   "outputs": [
    {
     "name": "stdout",
     "output_type": "stream",
     "text": [
      "(22334, 15)\n",
      "69.264206407271\n",
      "23.939610982990395\n"
     ]
    }
   ],
   "source": [
    "#H0: Hourly_wage = $75/hr\n",
    "#H1: Hourly_wage != $75/hr\n",
    "\n",
    "FT = data[data[\"Status\"] == \"FT\"]\n",
    "print(FT.shape)\n",
    "mean_hw = FT[\"Hourly_wage\"].mean()\n",
    "print(mean_hw)\n",
    "stdev_hw = stats.stdev(FT[\"Hourly_wage\"])\n",
    "print(stdev_hw)"
   ]
  },
  {
   "cell_type": "code",
   "execution_count": 278,
   "metadata": {},
   "outputs": [],
   "source": [
    "# Your code here: (compute the t_statistic). Take into account that this dataset is a sample of a real population.\n",
    "# Remember that you only need to consider \"FT\" employees"
   ]
  },
  {
   "cell_type": "code",
   "execution_count": 279,
   "metadata": {
    "colab": {
     "base_uri": "https://localhost:8080/"
    },
    "id": "zTcooP57zSyH",
    "outputId": "55834a56-23e4-40f0-8e83-56a40e8eb268"
   },
   "outputs": [
    {
     "data": {
      "text/plain": [
       "-35.80631941460793"
      ]
     },
     "execution_count": 279,
     "metadata": {},
     "output_type": "execute_result"
    }
   ],
   "source": [
    "t = (mean_hw-75)/(stdev_hw/math.sqrt(22334))\n",
    "t"
   ]
  },
  {
   "cell_type": "code",
   "execution_count": 280,
   "metadata": {},
   "outputs": [],
   "source": [
    "# Method 1: Critical value. Get the critical value and compare it against your statisttic.\n",
    "# Your code here: "
   ]
  },
  {
   "cell_type": "code",
   "execution_count": 281,
   "metadata": {
    "colab": {
     "base_uri": "https://localhost:8080/"
    },
    "id": "uel9UMe2zSyH",
    "outputId": "34d5376a-3e12-49c4-a8e8-85210c27e96a",
    "scrolled": true
   },
   "outputs": [
    {
     "name": "stdout",
     "output_type": "stream",
     "text": [
      "-1.9600702128845597\n",
      "1.9600702128845593\n"
     ]
    }
   ],
   "source": [
    "lower_critical_value = st.t.ppf(0.025, 22333)\n",
    "print(lower_critical_value)\n",
    "\n",
    "upper_critical_value = st.t.ppf(0.975, 22333)\n",
    "print(upper_critical_value)\n",
    "\n",
    "#### The mean hourly wage seems to be significantly lower in the FT workers compared to the\n",
    "### given mean ($75/hr), given that the statistic is much smaller than the lower critical value\n",
    "\n",
    "### H0 rejected!"
   ]
  },
  {
   "cell_type": "code",
   "execution_count": 282,
   "metadata": {},
   "outputs": [
    {
     "data": {
      "text/plain": [
       "2.2589156167156547e-273"
      ]
     },
     "execution_count": 282,
     "metadata": {},
     "output_type": "execute_result"
    }
   ],
   "source": [
    "# Method 2: Use the p-value method.\n",
    "# Your code here:\n",
    "\n",
    "st.t.cdf(t, 22333)\n",
    "\n",
    "### Same here, the pvalue is much smaller that 0.05. H0 rejected! Mean hourly wage of FT workers\n",
    "### is significantly lower than the given mean of $75/hr.\n"
   ]
  },
  {
   "cell_type": "code",
   "execution_count": null,
   "metadata": {
    "colab": {
     "base_uri": "https://localhost:8080/"
    },
    "id": "R4yteKjgzSyH",
    "outputId": "e78f6ef3-42c0-40f3-a24a-21f0d30ca56c"
   },
   "outputs": [],
   "source": []
  },
  {
   "cell_type": "code",
   "execution_count": 283,
   "metadata": {},
   "outputs": [],
   "source": [
    "# Method 3: Use the ttest_1samp function from scipy. \n",
    "# Check the documentation [here](https://docs.scipy.org/doc/scipy/reference/generated/scipy.stats.ttest_1samp.html)\n",
    "# Make sure that you have a scipy version >=1.6.0. If that's not your case please ugrade your scipy version using\n",
    "# !pip install -U scipy\n",
    "# Your code here:"
   ]
  },
  {
   "cell_type": "code",
   "execution_count": 284,
   "metadata": {
    "colab": {
     "base_uri": "https://localhost:8080/"
    },
    "id": "iIMw0PUqzSyI",
    "outputId": "6fbe4e5d-c9d8-473b-a64c-6c533bec9924"
   },
   "outputs": [
    {
     "data": {
      "text/plain": [
       "Ttest_1sampResult(statistic=-35.80631941460526, pvalue=4.517831233839447e-273)"
      ]
     },
     "execution_count": 284,
     "metadata": {},
     "output_type": "execute_result"
    }
   ],
   "source": [
    "st.ttest_1samp(FT[\"Hourly_wage\"], 75, alternative='two-sided')"
   ]
  },
  {
   "cell_type": "markdown",
   "metadata": {
    "id": "YvxOReoszSyI"
   },
   "source": [
    "Are all the methods in agreement?"
   ]
  },
  {
   "cell_type": "markdown",
   "metadata": {
    "id": "6W3OpLYuzSyI"
   },
   "source": [
    "We are also curious about salaries in the police force. The chief of police in Chicago claimed in a press briefing that salaries this year are **higher than last year's mean of $86000/year for all salaried employees** (use the column \"TotalPayBenefits\". Test  hypothesis using a 95% confidence interval.\n",
    "\n",
    "Hint: Use apply and a lambda function to check in \"Police\" is in the \"JobTitle\" to get all the \"Police\" jobs."
   ]
  },
  {
   "cell_type": "markdown",
   "metadata": {},
   "source": [
    "H0: salary => 86000/year\n",
    "H1: salary < 86000/year\n",
    "\n",
    "Zona de rechazo está a la izquierda\n",
    "P-value = P(D|H0=True)"
   ]
  },
  {
   "cell_type": "code",
   "execution_count": 285,
   "metadata": {},
   "outputs": [],
   "source": [
    "# Your code here: (compute the t_statistic). Take into account that this dataset is a sample of a real population.\n",
    "# Remember that you only need to consider \"Police\" employees"
   ]
  },
  {
   "cell_type": "code",
   "execution_count": 286,
   "metadata": {},
   "outputs": [
    {
     "data": {
      "text/plain": [
       "(1901, 15)"
      ]
     },
     "execution_count": 286,
     "metadata": {},
     "output_type": "execute_result"
    }
   ],
   "source": [
    "police = data[data['JobTitle'].str.contains(\"Police\")]\n",
    "police.shape"
   ]
  },
  {
   "cell_type": "code",
   "execution_count": 287,
   "metadata": {
    "colab": {
     "base_uri": "https://localhost:8080/"
    },
    "id": "SZJ_pHiUzSyI",
    "outputId": "1b3fe9d9-2589-4afa-d7b0-4d09251a3ba3"
   },
   "outputs": [
    {
     "name": "stdout",
     "output_type": "stream",
     "text": [
      "148349.04212519721\n",
      "54095.23137654034\n"
     ]
    },
    {
     "data": {
      "text/plain": [
       "50.2529847421099"
      ]
     },
     "execution_count": 287,
     "metadata": {},
     "output_type": "execute_result"
    }
   ],
   "source": [
    "mean_sal = police[\"TotalPayBenefits\"].mean()\n",
    "print(mean_sal)\n",
    "stdev_sal = stats.stdev(police[\"TotalPayBenefits\"])\n",
    "print(stdev_sal)\n",
    "t = (mean_sal-86000)/(stdev_sal/math.sqrt(1901))\n",
    "t"
   ]
  },
  {
   "cell_type": "code",
   "execution_count": 288,
   "metadata": {},
   "outputs": [],
   "source": [
    "# Method 1: Critical value. Get the critical value and compare it against your statisttic.\n",
    "# Your code here: "
   ]
  },
  {
   "cell_type": "code",
   "execution_count": 289,
   "metadata": {
    "colab": {
     "base_uri": "https://localhost:8080/"
    },
    "id": "MQec5gU6zSyJ",
    "outputId": "bc66c72a-9154-4a15-ca3a-6f59e30e1b1c"
   },
   "outputs": [
    {
     "data": {
      "text/plain": [
       "-1.645656004264731"
      ]
     },
     "execution_count": 289,
     "metadata": {},
     "output_type": "execute_result"
    }
   ],
   "source": [
    "critical_value = st.t.ppf(0.05, 1900)\n",
    "critical_value\n",
    "\n",
    "### The statistic is much higher than the critical value. The H0 can be accepted. The salaries\n",
    "### of the workers in the police force are much higher this year. "
   ]
  },
  {
   "cell_type": "code",
   "execution_count": 290,
   "metadata": {},
   "outputs": [],
   "source": [
    "# Method 2: Use the p-value method.\n",
    "# Your code here:"
   ]
  },
  {
   "cell_type": "code",
   "execution_count": 291,
   "metadata": {
    "colab": {
     "base_uri": "https://localhost:8080/"
    },
    "id": "zVwWqhkOzSyJ",
    "outputId": "039b9c5f-b817-47ed-d4dc-686673241b9b"
   },
   "outputs": [
    {
     "data": {
      "text/plain": [
       "1.0"
      ]
     },
     "execution_count": 291,
     "metadata": {},
     "output_type": "execute_result"
    }
   ],
   "source": [
    "pvalue = st.t.cdf(t, 1900)\n",
    "pvalue\n",
    "\n",
    "### The pvalue is 1, so much higher than 0.05. The H0 can be accepted. The salaries\n",
    "### of the workers in the police force are much higher this year.\n"
   ]
  },
  {
   "cell_type": "code",
   "execution_count": 292,
   "metadata": {},
   "outputs": [],
   "source": [
    "# Method 3: Use the ttest_1samp function from scipy. \n",
    "# Check the documentation [here](https://docs.scipy.org/doc/scipy/reference/generated/scipy.stats.ttest_1samp.html)\n",
    "# Make sure that you have a scipy version >=1.6.0. If that's not your case please ugrade your scipy version using\n",
    "# !pip install -U scipy\n",
    "# Your code here:"
   ]
  },
  {
   "cell_type": "code",
   "execution_count": 293,
   "metadata": {
    "colab": {
     "base_uri": "https://localhost:8080/"
    },
    "id": "INGCUoXHzSyJ",
    "outputId": "0add2f05-e1c9-4a2c-c91d-731183b8463e"
   },
   "outputs": [
    {
     "data": {
      "text/plain": [
       "Ttest_1sampResult(statistic=50.252984742109945, pvalue=1.0)"
      ]
     },
     "execution_count": 293,
     "metadata": {},
     "output_type": "execute_result"
    }
   ],
   "source": [
    "st.ttest_1samp(police[\"TotalPayBenefits\"], 86000, alternative=\"less\")"
   ]
  },
  {
   "cell_type": "markdown",
   "metadata": {
    "id": "wPCpi313zSyJ"
   },
   "source": [
    "The workers from the \"JobTitle\" with the most employees have complained that their hourly wage is **less than $35/hour**. Using a one sample t-test, test this one-sided hypothesis at the 95% confidence level."
   ]
  },
  {
   "cell_type": "code",
   "execution_count": 294,
   "metadata": {},
   "outputs": [],
   "source": [
    "# Your code here: (Get the department which has most employees)"
   ]
  },
  {
   "cell_type": "code",
   "execution_count": 295,
   "metadata": {
    "colab": {
     "base_uri": "https://localhost:8080/",
     "height": 35
    },
    "id": "m6X0DN4czSyJ",
    "outputId": "ed950bc6-1be7-4df6-be61-977bfb95d375"
   },
   "outputs": [
    {
     "data": {
      "text/plain": [
       "'Transit Operator'"
      ]
     },
     "execution_count": 295,
     "metadata": {},
     "output_type": "execute_result"
    }
   ],
   "source": [
    "#H0: Hourly_wage < $35/hr\n",
    "#H1: Hourly_wage >= $35/hr\n",
    "\n",
    "max_jt = data.groupby([\"JobTitle\"]).agg({\"EmployeeName\":\"count\"})\n",
    "max_jt.sort_values(by = [\"EmployeeName\"], ascending=False).index[0]"
   ]
  },
  {
   "cell_type": "code",
   "execution_count": 296,
   "metadata": {},
   "outputs": [
    {
     "data": {
      "text/plain": [
       "(2479, 15)"
      ]
     },
     "execution_count": 296,
     "metadata": {},
     "output_type": "execute_result"
    }
   ],
   "source": [
    "max_jt = data[data[\"JobTitle\"] == \"Transit Operator\"]\n",
    "max_jt.shape"
   ]
  },
  {
   "cell_type": "code",
   "execution_count": 297,
   "metadata": {},
   "outputs": [],
   "source": [
    "# Your code here: (compute the t_statistic). Take into account that this dataset is a sample of a real population.\n",
    "# Remember that you only need to consider the right \"JobTitle\" employees"
   ]
  },
  {
   "cell_type": "code",
   "execution_count": 298,
   "metadata": {
    "colab": {
     "base_uri": "https://localhost:8080/"
    },
    "id": "ifyDMFLXzSyJ",
    "outputId": "f350c751-9253-4140-a377-36c8112afc74"
   },
   "outputs": [
    {
     "name": "stdout",
     "output_type": "stream",
     "text": [
      "43.35949773900775\n",
      "21.831413666007283\n"
     ]
    },
    {
     "data": {
      "text/plain": [
       "19.064990324906578"
      ]
     },
     "execution_count": 298,
     "metadata": {},
     "output_type": "execute_result"
    }
   ],
   "source": [
    "mean_hw = max_jt[\"Hourly_wage\"].mean()\n",
    "print(mean_hw)\n",
    "stdev_hw = stats.stdev(max_jt[\"Hourly_wage\"])\n",
    "print(stdev_hw)\n",
    "t = (mean_hw-35)/(stdev_hw/math.sqrt(2479))\n",
    "t"
   ]
  },
  {
   "cell_type": "code",
   "execution_count": 299,
   "metadata": {},
   "outputs": [],
   "source": [
    "# Method 1: Critical value. Get the critical value and compare it against your statisttic.\n",
    "# Your code here: "
   ]
  },
  {
   "cell_type": "code",
   "execution_count": 300,
   "metadata": {
    "colab": {
     "base_uri": "https://localhost:8080/"
    },
    "id": "BCl3E2ItzSyK",
    "outputId": "f7677a30-0bf3-4c92-83f1-6a2e00f5176b"
   },
   "outputs": [
    {
     "data": {
      "text/plain": [
       "1.645468777247024"
      ]
     },
     "execution_count": 300,
     "metadata": {},
     "output_type": "execute_result"
    }
   ],
   "source": [
    "critical_value = st.t.ppf(0.95, 2478)\n",
    "critical_value\n",
    "\n",
    "### The hourly wages of the Transit Operator employees seem to be actually higher than the \n",
    "### given value of 35. Our t is much higher than the critical value to the H0 must be \n",
    "### rejected."
   ]
  },
  {
   "cell_type": "code",
   "execution_count": 301,
   "metadata": {},
   "outputs": [
    {
     "data": {
      "text/plain": [
       "0.0"
      ]
     },
     "execution_count": 301,
     "metadata": {},
     "output_type": "execute_result"
    }
   ],
   "source": [
    "# Method 2: Use the p-value method.\n",
    "# Your code here:\n",
    "\n",
    "pvalue = 1-(st.t.cdf(t, 2478))\n",
    "pvalue\n",
    "\n",
    "### Also here, H0 must be rejected!"
   ]
  },
  {
   "cell_type": "code",
   "execution_count": 302,
   "metadata": {
    "colab": {
     "base_uri": "https://localhost:8080/"
    },
    "id": "EmIpVMd0zSyK",
    "outputId": "00cb8466-e885-4acb-9015-6d54b61b1c7d"
   },
   "outputs": [],
   "source": [
    "# Method 3: Use the ttest_1samp function from scipy. \n",
    "# Check the documentation [here](https://docs.scipy.org/doc/scipy/reference/generated/scipy.stats.ttest_1samp.html)\n",
    "# Make sure that you have a scipy version >=1.6.0. If that's not your case please ugrade your scipy version using\n",
    "# !pip install -U scipy\n",
    "# Your code here:"
   ]
  },
  {
   "cell_type": "code",
   "execution_count": 303,
   "metadata": {
    "colab": {
     "base_uri": "https://localhost:8080/"
    },
    "id": "lxmOkkIIzSyK",
    "outputId": "989799b7-3304-4954-e268-9b190515eb4b"
   },
   "outputs": [
    {
     "data": {
      "text/plain": [
       "Ttest_1sampResult(statistic=19.064990324906383, pvalue=5.012771694204206e-76)"
      ]
     },
     "execution_count": 303,
     "metadata": {},
     "output_type": "execute_result"
    }
   ],
   "source": [
    "st.ttest_1samp(max_jt[\"Hourly_wage\"], 35, alternative=\"greater\")"
   ]
  },
  {
   "cell_type": "code",
   "execution_count": null,
   "metadata": {},
   "outputs": [],
   "source": []
  },
  {
   "cell_type": "markdown",
   "metadata": {
    "id": "ZNtFKSmuzSyK"
   },
   "source": [
    "# Challenge 3: To practice - Constructing Confidence Intervals\n",
    "\n",
    "While testing our hypothesis is a great way to gather empirical evidence for accepting or rejecting the hypothesis, another way to gather evidence is by creating a confidence interval. A confidence interval gives us information about the true mean of the population. So for a 95% confidence interval, we are 95% sure that the mean of the population is within the confidence interval. \n",
    ").\n",
    "\n",
    "To read more about confidence intervals, click [here](https://en.wikipedia.org/wiki/Confidence_interval).\n",
    "\n",
    "\n",
    "In the cell below, we will construct a 95% confidence interval for the mean hourly wage of all hourly workers. \n",
    "\n",
    "To compute the confidence interval of the hourly wage, use the 0.95 for the confidence level."
   ]
  },
  {
   "cell_type": "code",
   "execution_count": 304,
   "metadata": {},
   "outputs": [],
   "source": [
    "# Method 1: Get the critical values which correspond to a 95% confidence.\n",
    "# Your code here:"
   ]
  },
  {
   "cell_type": "code",
   "execution_count": 305,
   "metadata": {
    "colab": {
     "base_uri": "https://localhost:8080/"
    },
    "id": "y78OZcg7zSyL",
    "outputId": "9e07b943-737e-4458-d47c-f093a174da98"
   },
   "outputs": [
    {
     "name": "stdout",
     "output_type": "stream",
     "text": [
      "50.130719334189436\n",
      "(49.798255413084014, 50.46318325529486)\n"
     ]
    }
   ],
   "source": [
    "confidence_level = 0.95\n",
    "degrees_freedom = len(data[\"Hourly_wage\"]) - 1\n",
    "sample_mean = np.mean(data[\"Hourly_wage\"])\n",
    "print(sample_mean)\n",
    "sample_standard_error = st.sem(data[\"Hourly_wage\"])\n",
    "confidence_interval = st.t.interval(confidence_level, \n",
    "                                             degrees_freedom, \n",
    "                                             sample_mean, \n",
    "                                             sample_standard_error)\n",
    "print(confidence_interval)\n"
   ]
  },
  {
   "cell_type": "markdown",
   "metadata": {
    "id": "K3FbLwVjzSyL"
   },
   "source": [
    "Now compute a 95% confidence interval for the hourly salary of all the Police employees."
   ]
  },
  {
   "cell_type": "code",
   "execution_count": 306,
   "metadata": {},
   "outputs": [],
   "source": [
    "# Your code here:"
   ]
  },
  {
   "cell_type": "code",
   "execution_count": 307,
   "metadata": {
    "colab": {
     "base_uri": "https://localhost:8080/"
    },
    "id": "kJHkhMr6zSyL",
    "outputId": "9e39906c-f69b-462d-ebd4-af1dfcac014b"
   },
   "outputs": [
    {
     "name": "stdout",
     "output_type": "stream",
     "text": [
      "74.1745210625985\n",
      "(72.9578791736444, 75.3911629515526)\n"
     ]
    }
   ],
   "source": [
    "confidence_level = 0.95\n",
    "degrees_freedom = len(police[\"Hourly_wage\"]) - 1\n",
    "sample_mean = np.mean(police[\"Hourly_wage\"])\n",
    "print(sample_mean)\n",
    "sample_standard_error = st.sem(police[\"Hourly_wage\"])\n",
    "confidence_interval = st.t.interval(confidence_level, \n",
    "                                             degrees_freedom, \n",
    "                                             sample_mean, \n",
    "                                             sample_standard_error)\n",
    "print(confidence_interval)"
   ]
  },
  {
   "cell_type": "markdown",
   "metadata": {
    "id": "weFO_tpszSyL"
   },
   "source": [
    "# Chi2 test"
   ]
  },
  {
   "cell_type": "markdown",
   "metadata": {
    "id": "HfCTSUjSzSyL"
   },
   "source": [
    "Now we want to know if the amount of full time \"FT\" and part time \"PT\" employees is equal between Lawers, Meds, Police, Firemen and other departments. \n",
    "\n",
    "Considering all the options in this groups of employees will be very time consuming. To simplify this process, create first a function that returns:\n",
    "\n",
    "* \"Policemen\" if \"Police\" is found on \"JobTitle\"\n",
    "* \"Firemen\" if \"Fire\" is found on \"JobTitle\"\n",
    "* \"Medical\" if \"Med\" or \"Nurse\" is found on \"JobTitle\"\n",
    "* \"Lawyer\" if \"Attorney\" is found on \"JobTitle\"\n",
    "* \"Other\" in any other cases\n",
    "\n",
    "Then, create a new column named \"employee_group\" that determines to which group belong the employee. "
   ]
  },
  {
   "cell_type": "code",
   "execution_count": 313,
   "metadata": {
    "id": "ZojYuxvazSyM"
   },
   "outputs": [],
   "source": [
    "# Your code here: (Create the function)\n",
    "\n",
    "def employee_group(row):\n",
    "    if re.match(\"(Police)\", row[\"JobTitle\"]):\n",
    "        return \"Policemen\"\n",
    "    elif re.match(\"(Fire)\", row[\"JobTitle\"]):\n",
    "        return \"Firemen\"\n",
    "    elif re.match(\"(Med)\", row[\"JobTitle\"]) or re.match(\"(Nurse)\", row[\"JobTitle\"]):\n",
    "        return \"Medical\"\n",
    "    elif re.match(\"(Attorney)\", row[\"JobTitle\"]):\n",
    "        return \"Lawyer\"\n",
    "    else:\n",
    "        return \"Other\"\n"
   ]
  },
  {
   "cell_type": "code",
   "execution_count": 319,
   "metadata": {},
   "outputs": [],
   "source": [
    "def employee_group(row):\n",
    "    if \"Police\" in row[\"JobTitle\"]:\n",
    "        return \"Policemen\"\n",
    "    if \"Fire\" in row[\"JobTitle\"]:\n",
    "        return \"Firemen\"\n",
    "    if \"Med\" in row[\"JobTitle\"]:\n",
    "        return \"Medical\"\n",
    "    if \"Nurse\" in row[\"JobTitle\"]:\n",
    "        return \"Medical\"\n",
    "    if \"Attorney\" in row[\"JobTitle\"]:\n",
    "        return \"Lawyer\"\n",
    "    else:\n",
    "        return \"Other\""
   ]
  },
  {
   "cell_type": "code",
   "execution_count": 242,
   "metadata": {},
   "outputs": [],
   "source": [
    "# Your code here: (Apply the function)"
   ]
  },
  {
   "cell_type": "code",
   "execution_count": 320,
   "metadata": {
    "colab": {
     "base_uri": "https://localhost:8080/",
     "height": 374
    },
    "id": "79H-XuKfzSyM",
    "outputId": "fa61544e-b697-478c-8227-88ce7cb6b965",
    "scrolled": true
   },
   "outputs": [
    {
     "name": "stdout",
     "output_type": "stream",
     "text": [
      "Other        30371\n",
      "Medical       3917\n",
      "Policemen     1901\n",
      "Firemen       1511\n",
      "Lawyer         419\n",
      "Name: employee_group, dtype: int64\n"
     ]
    },
    {
     "data": {
      "text/html": [
       "<div>\n",
       "<style scoped>\n",
       "    .dataframe tbody tr th:only-of-type {\n",
       "        vertical-align: middle;\n",
       "    }\n",
       "\n",
       "    .dataframe tbody tr th {\n",
       "        vertical-align: top;\n",
       "    }\n",
       "\n",
       "    .dataframe thead th {\n",
       "        text-align: right;\n",
       "    }\n",
       "</style>\n",
       "<table border=\"1\" class=\"dataframe\">\n",
       "  <thead>\n",
       "    <tr style=\"text-align: right;\">\n",
       "      <th></th>\n",
       "      <th>index</th>\n",
       "      <th>Id</th>\n",
       "      <th>EmployeeName</th>\n",
       "      <th>JobTitle</th>\n",
       "      <th>BasePay</th>\n",
       "      <th>OvertimePay</th>\n",
       "      <th>OtherPay</th>\n",
       "      <th>Benefits</th>\n",
       "      <th>TotalPay</th>\n",
       "      <th>TotalPayBenefits</th>\n",
       "      <th>Year</th>\n",
       "      <th>Agency</th>\n",
       "      <th>Status</th>\n",
       "      <th>Total2</th>\n",
       "      <th>Hourly_wage</th>\n",
       "      <th>employee_group</th>\n",
       "    </tr>\n",
       "  </thead>\n",
       "  <tbody>\n",
       "    <tr>\n",
       "      <th>0</th>\n",
       "      <td>110531</td>\n",
       "      <td>110532</td>\n",
       "      <td>David Shinn</td>\n",
       "      <td>Deputy Chief 3</td>\n",
       "      <td>129150.01</td>\n",
       "      <td>0.00</td>\n",
       "      <td>342802.63</td>\n",
       "      <td>38780.04</td>\n",
       "      <td>471952.64</td>\n",
       "      <td>510732.68</td>\n",
       "      <td>2014</td>\n",
       "      <td>San Francisco</td>\n",
       "      <td>PT</td>\n",
       "      <td>510732.68</td>\n",
       "      <td>255.366340</td>\n",
       "      <td>Other</td>\n",
       "    </tr>\n",
       "    <tr>\n",
       "      <th>1</th>\n",
       "      <td>110532</td>\n",
       "      <td>110533</td>\n",
       "      <td>Amy P Hart</td>\n",
       "      <td>Asst Med Examiner</td>\n",
       "      <td>318835.49</td>\n",
       "      <td>10712.95</td>\n",
       "      <td>60563.54</td>\n",
       "      <td>89540.23</td>\n",
       "      <td>390111.98</td>\n",
       "      <td>479652.21</td>\n",
       "      <td>2014</td>\n",
       "      <td>San Francisco</td>\n",
       "      <td>FT</td>\n",
       "      <td>479652.21</td>\n",
       "      <td>239.826105</td>\n",
       "      <td>Medical</td>\n",
       "    </tr>\n",
       "    <tr>\n",
       "      <th>2</th>\n",
       "      <td>110533</td>\n",
       "      <td>110534</td>\n",
       "      <td>William J Coaker Jr.</td>\n",
       "      <td>Chief Investment Officer</td>\n",
       "      <td>257340.00</td>\n",
       "      <td>0.00</td>\n",
       "      <td>82313.70</td>\n",
       "      <td>96570.66</td>\n",
       "      <td>339653.70</td>\n",
       "      <td>436224.36</td>\n",
       "      <td>2014</td>\n",
       "      <td>San Francisco</td>\n",
       "      <td>PT</td>\n",
       "      <td>436224.36</td>\n",
       "      <td>218.112180</td>\n",
       "      <td>Other</td>\n",
       "    </tr>\n",
       "    <tr>\n",
       "      <th>3</th>\n",
       "      <td>110534</td>\n",
       "      <td>110535</td>\n",
       "      <td>Gregory P Suhr</td>\n",
       "      <td>Chief of Police</td>\n",
       "      <td>307450.04</td>\n",
       "      <td>0.00</td>\n",
       "      <td>19266.72</td>\n",
       "      <td>91302.46</td>\n",
       "      <td>326716.76</td>\n",
       "      <td>418019.22</td>\n",
       "      <td>2014</td>\n",
       "      <td>San Francisco</td>\n",
       "      <td>FT</td>\n",
       "      <td>418019.22</td>\n",
       "      <td>209.009610</td>\n",
       "      <td>Policemen</td>\n",
       "    </tr>\n",
       "    <tr>\n",
       "      <th>4</th>\n",
       "      <td>110535</td>\n",
       "      <td>110536</td>\n",
       "      <td>Joanne M Hayes-White</td>\n",
       "      <td>Chief, Fire Department</td>\n",
       "      <td>302068.00</td>\n",
       "      <td>0.00</td>\n",
       "      <td>24165.44</td>\n",
       "      <td>91201.66</td>\n",
       "      <td>326233.44</td>\n",
       "      <td>417435.10</td>\n",
       "      <td>2014</td>\n",
       "      <td>San Francisco</td>\n",
       "      <td>FT</td>\n",
       "      <td>417435.10</td>\n",
       "      <td>208.717550</td>\n",
       "      <td>Firemen</td>\n",
       "    </tr>\n",
       "    <tr>\n",
       "      <th>...</th>\n",
       "      <td>...</td>\n",
       "      <td>...</td>\n",
       "      <td>...</td>\n",
       "      <td>...</td>\n",
       "      <td>...</td>\n",
       "      <td>...</td>\n",
       "      <td>...</td>\n",
       "      <td>...</td>\n",
       "      <td>...</td>\n",
       "      <td>...</td>\n",
       "      <td>...</td>\n",
       "      <td>...</td>\n",
       "      <td>...</td>\n",
       "      <td>...</td>\n",
       "      <td>...</td>\n",
       "      <td>...</td>\n",
       "    </tr>\n",
       "    <tr>\n",
       "      <th>38114</th>\n",
       "      <td>148645</td>\n",
       "      <td>148646</td>\n",
       "      <td>Carolyn A Wilson</td>\n",
       "      <td>Human Services Technician</td>\n",
       "      <td>0.00</td>\n",
       "      <td>0.00</td>\n",
       "      <td>0.00</td>\n",
       "      <td>0.00</td>\n",
       "      <td>0.00</td>\n",
       "      <td>0.00</td>\n",
       "      <td>2014</td>\n",
       "      <td>San Francisco</td>\n",
       "      <td>PT</td>\n",
       "      <td>0.00</td>\n",
       "      <td>0.000000</td>\n",
       "      <td>Other</td>\n",
       "    </tr>\n",
       "    <tr>\n",
       "      <th>38115</th>\n",
       "      <td>148647</td>\n",
       "      <td>148648</td>\n",
       "      <td>Joann Anderson</td>\n",
       "      <td>Communications Dispatcher 2</td>\n",
       "      <td>0.00</td>\n",
       "      <td>0.00</td>\n",
       "      <td>0.00</td>\n",
       "      <td>0.00</td>\n",
       "      <td>0.00</td>\n",
       "      <td>0.00</td>\n",
       "      <td>2014</td>\n",
       "      <td>San Francisco</td>\n",
       "      <td>PT</td>\n",
       "      <td>0.00</td>\n",
       "      <td>0.000000</td>\n",
       "      <td>Other</td>\n",
       "    </tr>\n",
       "    <tr>\n",
       "      <th>38116</th>\n",
       "      <td>148648</td>\n",
       "      <td>148649</td>\n",
       "      <td>Leon Walker</td>\n",
       "      <td>Custodian</td>\n",
       "      <td>0.00</td>\n",
       "      <td>0.00</td>\n",
       "      <td>0.00</td>\n",
       "      <td>0.00</td>\n",
       "      <td>0.00</td>\n",
       "      <td>0.00</td>\n",
       "      <td>2014</td>\n",
       "      <td>San Francisco</td>\n",
       "      <td>PT</td>\n",
       "      <td>0.00</td>\n",
       "      <td>0.000000</td>\n",
       "      <td>Other</td>\n",
       "    </tr>\n",
       "    <tr>\n",
       "      <th>38117</th>\n",
       "      <td>148649</td>\n",
       "      <td>148650</td>\n",
       "      <td>Roy I Tillery</td>\n",
       "      <td>Custodian</td>\n",
       "      <td>0.00</td>\n",
       "      <td>0.00</td>\n",
       "      <td>0.00</td>\n",
       "      <td>0.00</td>\n",
       "      <td>0.00</td>\n",
       "      <td>0.00</td>\n",
       "      <td>2014</td>\n",
       "      <td>San Francisco</td>\n",
       "      <td>PT</td>\n",
       "      <td>0.00</td>\n",
       "      <td>0.000000</td>\n",
       "      <td>Other</td>\n",
       "    </tr>\n",
       "    <tr>\n",
       "      <th>38118</th>\n",
       "      <td>148653</td>\n",
       "      <td>148654</td>\n",
       "      <td>Joe Lopez</td>\n",
       "      <td>Counselor, Log Cabin Ranch</td>\n",
       "      <td>0.00</td>\n",
       "      <td>0.00</td>\n",
       "      <td>-618.13</td>\n",
       "      <td>0.00</td>\n",
       "      <td>-618.13</td>\n",
       "      <td>-618.13</td>\n",
       "      <td>2014</td>\n",
       "      <td>San Francisco</td>\n",
       "      <td>PT</td>\n",
       "      <td>-618.13</td>\n",
       "      <td>-0.309065</td>\n",
       "      <td>Other</td>\n",
       "    </tr>\n",
       "  </tbody>\n",
       "</table>\n",
       "<p>38119 rows × 16 columns</p>\n",
       "</div>"
      ],
      "text/plain": [
       "        index      Id          EmployeeName                     JobTitle  \\\n",
       "0      110531  110532           David Shinn               Deputy Chief 3   \n",
       "1      110532  110533            Amy P Hart            Asst Med Examiner   \n",
       "2      110533  110534  William J Coaker Jr.     Chief Investment Officer   \n",
       "3      110534  110535        Gregory P Suhr              Chief of Police   \n",
       "4      110535  110536  Joanne M Hayes-White       Chief, Fire Department   \n",
       "...       ...     ...                   ...                          ...   \n",
       "38114  148645  148646      Carolyn A Wilson    Human Services Technician   \n",
       "38115  148647  148648        Joann Anderson  Communications Dispatcher 2   \n",
       "38116  148648  148649           Leon Walker                    Custodian   \n",
       "38117  148649  148650         Roy I Tillery                    Custodian   \n",
       "38118  148653  148654             Joe Lopez   Counselor, Log Cabin Ranch   \n",
       "\n",
       "         BasePay  OvertimePay   OtherPay  Benefits   TotalPay  \\\n",
       "0      129150.01         0.00  342802.63  38780.04  471952.64   \n",
       "1      318835.49     10712.95   60563.54  89540.23  390111.98   \n",
       "2      257340.00         0.00   82313.70  96570.66  339653.70   \n",
       "3      307450.04         0.00   19266.72  91302.46  326716.76   \n",
       "4      302068.00         0.00   24165.44  91201.66  326233.44   \n",
       "...          ...          ...        ...       ...        ...   \n",
       "38114       0.00         0.00       0.00      0.00       0.00   \n",
       "38115       0.00         0.00       0.00      0.00       0.00   \n",
       "38116       0.00         0.00       0.00      0.00       0.00   \n",
       "38117       0.00         0.00       0.00      0.00       0.00   \n",
       "38118       0.00         0.00    -618.13      0.00    -618.13   \n",
       "\n",
       "       TotalPayBenefits  Year         Agency Status     Total2  Hourly_wage  \\\n",
       "0             510732.68  2014  San Francisco     PT  510732.68   255.366340   \n",
       "1             479652.21  2014  San Francisco     FT  479652.21   239.826105   \n",
       "2             436224.36  2014  San Francisco     PT  436224.36   218.112180   \n",
       "3             418019.22  2014  San Francisco     FT  418019.22   209.009610   \n",
       "4             417435.10  2014  San Francisco     FT  417435.10   208.717550   \n",
       "...                 ...   ...            ...    ...        ...          ...   \n",
       "38114              0.00  2014  San Francisco     PT       0.00     0.000000   \n",
       "38115              0.00  2014  San Francisco     PT       0.00     0.000000   \n",
       "38116              0.00  2014  San Francisco     PT       0.00     0.000000   \n",
       "38117              0.00  2014  San Francisco     PT       0.00     0.000000   \n",
       "38118           -618.13  2014  San Francisco     PT    -618.13    -0.309065   \n",
       "\n",
       "      employee_group  \n",
       "0              Other  \n",
       "1            Medical  \n",
       "2              Other  \n",
       "3          Policemen  \n",
       "4            Firemen  \n",
       "...              ...  \n",
       "38114          Other  \n",
       "38115          Other  \n",
       "38116          Other  \n",
       "38117          Other  \n",
       "38118          Other  \n",
       "\n",
       "[38119 rows x 16 columns]"
      ]
     },
     "execution_count": 320,
     "metadata": {},
     "output_type": "execute_result"
    }
   ],
   "source": [
    "data[\"employee_group\"] = data.apply(employee_group, axis = 1)\n",
    "print(data[\"employee_group\"].value_counts())\n",
    "data"
   ]
  },
  {
   "cell_type": "markdown",
   "metadata": {
    "id": "TPCdBgKezSyM"
   },
   "source": [
    "Determine how many \"PT\" and \"FT\" employess have all the employees groups."
   ]
  },
  {
   "cell_type": "code",
   "execution_count": null,
   "metadata": {},
   "outputs": [],
   "source": [
    "# Your code here: (Store the output dataframe into a new variable)"
   ]
  },
  {
   "cell_type": "code",
   "execution_count": 321,
   "metadata": {
    "colab": {
     "base_uri": "https://localhost:8080/",
     "height": 237
    },
    "id": "GB8tp2rDzSyM",
    "outputId": "b5a3ca3c-2300-4d37-ac9f-ca4b1cf80ceb"
   },
   "outputs": [
    {
     "data": {
      "text/html": [
       "<div>\n",
       "<style scoped>\n",
       "    .dataframe tbody tr th:only-of-type {\n",
       "        vertical-align: middle;\n",
       "    }\n",
       "\n",
       "    .dataframe tbody tr th {\n",
       "        vertical-align: top;\n",
       "    }\n",
       "\n",
       "    .dataframe thead tr th {\n",
       "        text-align: left;\n",
       "    }\n",
       "</style>\n",
       "<table border=\"1\" class=\"dataframe\">\n",
       "  <thead>\n",
       "    <tr>\n",
       "      <th></th>\n",
       "      <th>employee_group</th>\n",
       "      <th colspan=\"2\" halign=\"left\">Count</th>\n",
       "    </tr>\n",
       "    <tr>\n",
       "      <th>Status</th>\n",
       "      <th></th>\n",
       "      <th>FT</th>\n",
       "      <th>PT</th>\n",
       "    </tr>\n",
       "  </thead>\n",
       "  <tbody>\n",
       "    <tr>\n",
       "      <th>0</th>\n",
       "      <td>Firemen</td>\n",
       "      <td>1333</td>\n",
       "      <td>178</td>\n",
       "    </tr>\n",
       "    <tr>\n",
       "      <th>1</th>\n",
       "      <td>Lawyer</td>\n",
       "      <td>317</td>\n",
       "      <td>102</td>\n",
       "    </tr>\n",
       "    <tr>\n",
       "      <th>2</th>\n",
       "      <td>Medical</td>\n",
       "      <td>1028</td>\n",
       "      <td>2889</td>\n",
       "    </tr>\n",
       "    <tr>\n",
       "      <th>3</th>\n",
       "      <td>Other</td>\n",
       "      <td>18126</td>\n",
       "      <td>12245</td>\n",
       "    </tr>\n",
       "    <tr>\n",
       "      <th>4</th>\n",
       "      <td>Policemen</td>\n",
       "      <td>1530</td>\n",
       "      <td>371</td>\n",
       "    </tr>\n",
       "  </tbody>\n",
       "</table>\n",
       "</div>"
      ],
      "text/plain": [
       "       employee_group  Count       \n",
       "Status                    FT     PT\n",
       "0             Firemen   1333    178\n",
       "1              Lawyer    317    102\n",
       "2             Medical   1028   2889\n",
       "3               Other  18126  12245\n",
       "4           Policemen   1530    371"
      ]
     },
     "execution_count": 321,
     "metadata": {},
     "output_type": "execute_result"
    }
   ],
   "source": [
    "employee_group = data.groupby([\"employee_group\", \"Status\"]).agg({\"Status\":\"count\"})\n",
    "employee_group.columns = [\"Count\"]\n",
    "employee_group = employee_group.reset_index()\n",
    "employee_group = employee_group.pivot(index='employee_group',columns='Status').reset_index()\n",
    "employee_group"
   ]
  },
  {
   "cell_type": "markdown",
   "metadata": {
    "id": "CJb-kx-7zSyM"
   },
   "source": [
    "Now try compute the expected frequencies doing the calculations with the individual probabilities. Remember that the Chi2 test assumes that both variables (employee_group and FT/PT) are not related (therefore they are independent). Therefore, to compute the expected frequencies you need to compute the probability of each cell and multiply it by the number of observations. ie:\n",
    "\n",
    "$$\\nu(x,y) = p(x,y) * N = p(x) * p(y) * N$$\n",
    "\n",
    "bear in mind that in general: $p(x,y)\\neq p(x)*p(y)$; the equality will only be true if x and y are independent. However, the null hypotheses says that **x and y are independent.** but that's what we're assuming with the null hypotheses.\n",
    "\n",
    "where \"x\" is the \"employee_group\" and \"y\" the (FT/PT). "
   ]
  },
  {
   "cell_type": "code",
   "execution_count": null,
   "metadata": {},
   "outputs": [],
   "source": [
    "# Create an empty dataframe named \"frequencies\" to store the data.\n",
    "# Your code here:"
   ]
  },
  {
   "cell_type": "code",
   "execution_count": 169,
   "metadata": {
    "id": "Y-fJvVuqzSyN"
   },
   "outputs": [
    {
     "data": {
      "text/html": [
       "<div>\n",
       "<style scoped>\n",
       "    .dataframe tbody tr th:only-of-type {\n",
       "        vertical-align: middle;\n",
       "    }\n",
       "\n",
       "    .dataframe tbody tr th {\n",
       "        vertical-align: top;\n",
       "    }\n",
       "\n",
       "    .dataframe thead th {\n",
       "        text-align: right;\n",
       "    }\n",
       "</style>\n",
       "<table border=\"1\" class=\"dataframe\">\n",
       "  <thead>\n",
       "    <tr style=\"text-align: right;\">\n",
       "      <th></th>\n",
       "    </tr>\n",
       "  </thead>\n",
       "  <tbody>\n",
       "  </tbody>\n",
       "</table>\n",
       "</div>"
      ],
      "text/plain": [
       "Empty DataFrame\n",
       "Columns: []\n",
       "Index: []"
      ]
     },
     "execution_count": 169,
     "metadata": {},
     "output_type": "execute_result"
    }
   ],
   "source": [
    "frequencies = pd.DataFrame()\n",
    "frequencies"
   ]
  },
  {
   "cell_type": "code",
   "execution_count": null,
   "metadata": {},
   "outputs": [],
   "source": [
    "# Your code here: Compute Expected frequency of being \"Firemen\" and \"FT\". Store the solution in a variable named \"firemen_ft\""
   ]
  },
  {
   "cell_type": "code",
   "execution_count": 322,
   "metadata": {
    "colab": {
     "base_uri": "https://localhost:8080/"
    },
    "id": "1ld-NVuczSyN",
    "outputId": "8f4e0114-77c2-446b-f02f-bc5440b3fb9a"
   },
   "outputs": [
    {
     "data": {
      "text/plain": [
       "885.2979878800596"
      ]
     },
     "execution_count": 322,
     "metadata": {},
     "output_type": "execute_result"
    }
   ],
   "source": [
    "firemen = (1333+178)/(1333+317+1028+18126+1530+178+102+2889+12245+371)\n",
    "ft = (1333+317+1028+18126+1530)/(1333+317+1028+18126+1530+178+102+2889+12245+371)\n",
    "firemen_ft = firemen*ft*(1333+317+1028+18126+1530+178+102+2889+12245+371)\n",
    "firemen_ft"
   ]
  },
  {
   "cell_type": "code",
   "execution_count": null,
   "metadata": {},
   "outputs": [],
   "source": [
    "# Your code here: Compute Expected frequency of being \"Firemen\" and \"PT\". Store the solution in a variable named \"firemen_pt\""
   ]
  },
  {
   "cell_type": "code",
   "execution_count": 323,
   "metadata": {
    "colab": {
     "base_uri": "https://localhost:8080/"
    },
    "id": "RUp3VAXIzSyN",
    "outputId": "f20f5b9b-62fe-48b9-9638-a609464a0a06"
   },
   "outputs": [
    {
     "data": {
      "text/plain": [
       "625.7020121199403"
      ]
     },
     "execution_count": 323,
     "metadata": {},
     "output_type": "execute_result"
    }
   ],
   "source": [
    "firemen = (1333+178)/(1333+317+1028+18126+1530+178+102+2889+12245+371)\n",
    "pt = (178+102+2889+12245+371)/(1333+317+1028+18126+1530+178+102+2889+12245+371)\n",
    "firemen_pt = firemen*pt*(1333+317+1028+18126+1530+178+102+2889+12245+371)\n",
    "firemen_pt"
   ]
  },
  {
   "cell_type": "code",
   "execution_count": null,
   "metadata": {},
   "outputs": [],
   "source": [
    "# Your code here: Compute Expected frequency of being \"Lawyers\" and \"FT\". Store the solution in a variable named \"lawyers_ft\""
   ]
  },
  {
   "cell_type": "code",
   "execution_count": 324,
   "metadata": {
    "colab": {
     "base_uri": "https://localhost:8080/"
    },
    "id": "5zTnWHxdzSyN",
    "outputId": "fa3db9aa-9fbb-482e-f35a-13fa9e605405"
   },
   "outputs": [
    {
     "data": {
      "text/plain": [
       "245.49295626852748"
      ]
     },
     "execution_count": 324,
     "metadata": {},
     "output_type": "execute_result"
    }
   ],
   "source": [
    "lawyers = (317+102)/(1333+317+1028+18126+1530+178+102+2889+12245+371)\n",
    "lawyers_ft = lawyers*ft*(1333+317+1028+18126+1530+178+102+2889+12245+371)\n",
    "lawyers_ft"
   ]
  },
  {
   "cell_type": "code",
   "execution_count": null,
   "metadata": {},
   "outputs": [],
   "source": [
    "# Your code here: Compute Expected frequency of being \"Lawyers\" and \"PT\". Store the solution in a variable named \"lawyers_pt\""
   ]
  },
  {
   "cell_type": "code",
   "execution_count": 326,
   "metadata": {
    "colab": {
     "base_uri": "https://localhost:8080/"
    },
    "id": "f_E2hWy7zSyN",
    "outputId": "0589a145-35fb-4441-c5e8-32bce904e01a"
   },
   "outputs": [
    {
     "data": {
      "text/plain": [
       "173.5070437314725"
      ]
     },
     "execution_count": 326,
     "metadata": {},
     "output_type": "execute_result"
    }
   ],
   "source": [
    "lawyers_pt = lawyers*pt*(1333+317+1028+18126+1530+178+102+2889+12245+371)\n",
    "lawyers_pt"
   ]
  },
  {
   "cell_type": "code",
   "execution_count": null,
   "metadata": {},
   "outputs": [],
   "source": [
    "# Your code here: Compute Expected frequency of being \"Medical\" and \"FT\". Store the solution in a variable named \"medical_ft\""
   ]
  },
  {
   "cell_type": "code",
   "execution_count": 327,
   "metadata": {
    "colab": {
     "base_uri": "https://localhost:8080/"
    },
    "id": "TJSVxXMlzSyN",
    "outputId": "4731e0ca-028d-4582-fc75-772b2e3644b2"
   },
   "outputs": [
    {
     "data": {
      "text/plain": [
       "2294.9783047823917"
      ]
     },
     "execution_count": 327,
     "metadata": {},
     "output_type": "execute_result"
    }
   ],
   "source": [
    "medical = (1028+2889)/(1333+317+1028+18126+1530+178+102+2889+12245+371)\n",
    "medical_ft = medical*ft*(1333+317+1028+18126+1530+178+102+2889+12245+371)\n",
    "medical_ft"
   ]
  },
  {
   "cell_type": "code",
   "execution_count": null,
   "metadata": {},
   "outputs": [],
   "source": [
    "# Your code here: Compute Expected frequency of being \"Medical\" and \"PT\". Store the solution in a variable named \"medical_pt\""
   ]
  },
  {
   "cell_type": "code",
   "execution_count": 328,
   "metadata": {
    "colab": {
     "base_uri": "https://localhost:8080/"
    },
    "id": "6JDp8KxyzSyO",
    "outputId": "7cf6a30a-5a80-4c47-f38b-c51e98025b48"
   },
   "outputs": [
    {
     "data": {
      "text/plain": [
       "1622.021695217608"
      ]
     },
     "execution_count": 328,
     "metadata": {},
     "output_type": "execute_result"
    }
   ],
   "source": [
    "medical_pt = medical*pt*(1333+317+1028+18126+1530+178+102+2889+12245+371)\n",
    "medical_pt"
   ]
  },
  {
   "cell_type": "code",
   "execution_count": null,
   "metadata": {},
   "outputs": [],
   "source": [
    "# Your code here: Compute Expected frequency of being \"Other\" and \"FT\". Store the solution in a variable named \"other_ft\""
   ]
  },
  {
   "cell_type": "code",
   "execution_count": 329,
   "metadata": {
    "colab": {
     "base_uri": "https://localhost:8080/"
    },
    "id": "Faj2vgrazSyO",
    "outputId": "bcc9b61f-abf7-44b4-9cc4-57c34f4559b3"
   },
   "outputs": [
    {
     "data": {
      "text/plain": [
       "17794.430966184842"
      ]
     },
     "execution_count": 329,
     "metadata": {},
     "output_type": "execute_result"
    }
   ],
   "source": [
    "other = (18126+12245)/(1333+317+1028+18126+1530+178+102+2889+12245+371)\n",
    "other_ft = other*ft*(1333+317+1028+18126+1530+178+102+2889+12245+371)\n",
    "other_ft"
   ]
  },
  {
   "cell_type": "code",
   "execution_count": null,
   "metadata": {},
   "outputs": [],
   "source": [
    "# Your code here: Compute Expected frequency of being \"Other\" and \"PT\". Store the solution in a variable named \"other_pt\""
   ]
  },
  {
   "cell_type": "code",
   "execution_count": 330,
   "metadata": {
    "colab": {
     "base_uri": "https://localhost:8080/"
    },
    "id": "kmAMpPFyzSyO",
    "outputId": "0de568d8-d0db-471f-bc60-2ddc65cb5e54"
   },
   "outputs": [
    {
     "data": {
      "text/plain": [
       "12576.569033815158"
      ]
     },
     "execution_count": 330,
     "metadata": {},
     "output_type": "execute_result"
    }
   ],
   "source": [
    "other_pt = other*pt*(1333+317+1028+18126+1530+178+102+2889+12245+371)\n",
    "other_pt"
   ]
  },
  {
   "cell_type": "code",
   "execution_count": null,
   "metadata": {},
   "outputs": [],
   "source": [
    "# Your code here: Compute Expected frequency of being \"Policement\" and \"FT\". Store the solution in a variable named \"policemen_ft\""
   ]
  },
  {
   "cell_type": "code",
   "execution_count": 331,
   "metadata": {
    "colab": {
     "base_uri": "https://localhost:8080/"
    },
    "id": "yUyhx_IezSyO",
    "outputId": "9f9bfaae-d402-4e04-8863-e3ff2bf63ac9"
   },
   "outputs": [
    {
     "data": {
      "text/plain": [
       "1113.7997848841785"
      ]
     },
     "execution_count": 331,
     "metadata": {},
     "output_type": "execute_result"
    }
   ],
   "source": [
    "policemen = (1530+371)/(1333+317+1028+18126+1530+178+102+2889+12245+371)\n",
    "policemen_ft = policemen*ft*(1333+317+1028+18126+1530+178+102+2889+12245+371)\n",
    "policemen_ft"
   ]
  },
  {
   "cell_type": "code",
   "execution_count": null,
   "metadata": {},
   "outputs": [],
   "source": [
    "# Your code here: Compute Expected frequency of being \"Policement\" and \"PT\". Store the solution in a variable named \"policemen_pt\""
   ]
  },
  {
   "cell_type": "code",
   "execution_count": 332,
   "metadata": {
    "colab": {
     "base_uri": "https://localhost:8080/"
    },
    "id": "xU9CcKJSzSyO",
    "outputId": "c19fc385-8048-4f47-9397-46d416f1ffdf"
   },
   "outputs": [
    {
     "data": {
      "text/plain": [
       "787.2002151158215"
      ]
     },
     "execution_count": 332,
     "metadata": {},
     "output_type": "execute_result"
    }
   ],
   "source": [
    "policemen_pt = policemen*pt*(1333+317+1028+18126+1530+178+102+2889+12245+371)\n",
    "policemen_pt"
   ]
  },
  {
   "cell_type": "markdown",
   "metadata": {
    "id": "XRuFEP-WzSyO"
   },
   "source": [
    "* Store all the expected frequencies of \"FT\" employees in a list \n",
    "* Store all the \"PT\" employees into another list\n",
    "* Create a dictionary with \"FT\" and \"PT\" as keys and as the values use the previous lists\n",
    "* Create a dataframe with this dictionary using pd.DataFrame()"
   ]
  },
  {
   "cell_type": "code",
   "execution_count": null,
   "metadata": {},
   "outputs": [],
   "source": [
    "# Your code here:"
   ]
  },
  {
   "cell_type": "code",
   "execution_count": 336,
   "metadata": {
    "colab": {
     "base_uri": "https://localhost:8080/",
     "height": 206
    },
    "id": "g6Otm4XUzSyO",
    "outputId": "7bbf7a53-e947-4137-8f03-35fb3b9cc3ee"
   },
   "outputs": [
    {
     "data": {
      "text/html": [
       "<div>\n",
       "<style scoped>\n",
       "    .dataframe tbody tr th:only-of-type {\n",
       "        vertical-align: middle;\n",
       "    }\n",
       "\n",
       "    .dataframe tbody tr th {\n",
       "        vertical-align: top;\n",
       "    }\n",
       "\n",
       "    .dataframe thead th {\n",
       "        text-align: right;\n",
       "    }\n",
       "</style>\n",
       "<table border=\"1\" class=\"dataframe\">\n",
       "  <thead>\n",
       "    <tr style=\"text-align: right;\">\n",
       "      <th></th>\n",
       "      <th>FT</th>\n",
       "      <th>PT</th>\n",
       "    </tr>\n",
       "  </thead>\n",
       "  <tbody>\n",
       "    <tr>\n",
       "      <th>0</th>\n",
       "      <td>885.297988</td>\n",
       "      <td>625.702012</td>\n",
       "    </tr>\n",
       "    <tr>\n",
       "      <th>1</th>\n",
       "      <td>245.492956</td>\n",
       "      <td>173.507044</td>\n",
       "    </tr>\n",
       "    <tr>\n",
       "      <th>2</th>\n",
       "      <td>2294.978305</td>\n",
       "      <td>1622.021695</td>\n",
       "    </tr>\n",
       "    <tr>\n",
       "      <th>3</th>\n",
       "      <td>17794.430966</td>\n",
       "      <td>12576.569034</td>\n",
       "    </tr>\n",
       "    <tr>\n",
       "      <th>4</th>\n",
       "      <td>1113.799785</td>\n",
       "      <td>787.200215</td>\n",
       "    </tr>\n",
       "  </tbody>\n",
       "</table>\n",
       "</div>"
      ],
      "text/plain": [
       "             FT            PT\n",
       "0    885.297988    625.702012\n",
       "1    245.492956    173.507044\n",
       "2   2294.978305   1622.021695\n",
       "3  17794.430966  12576.569034\n",
       "4   1113.799785    787.200215"
      ]
     },
     "execution_count": 336,
     "metadata": {},
     "output_type": "execute_result"
    }
   ],
   "source": [
    "ft = [firemen_ft, lawyers_ft, medical_ft, other_ft, policemen_ft]\n",
    "pt = [firemen_pt, lawyers_pt, medical_pt, other_pt, policemen_pt]\n",
    "dic = {\"FT\": ft, \"PT\": pt}\n",
    "df = pd.DataFrame(dic)\n",
    "df"
   ]
  },
  {
   "cell_type": "markdown",
   "metadata": {
    "id": "serVGf6HzSyP"
   },
   "source": [
    "Now use the \"st.chi2_contingency()\" from scipy.stats [documentation here](https://docs.scipy.org/doc/scipy/reference/generated/scipy.stats.chi2_contingency.html) to conduct a Chi2 test to determine if the diferences between employee groups are statistically significant using a 95% confidence level. Hint: fill the function with a dataframe of actual frequencies."
   ]
  },
  {
   "cell_type": "code",
   "execution_count": null,
   "metadata": {},
   "outputs": [],
   "source": [
    "# Your code here: (use the st.chi2_contingency() function from scipy.stats to compute:\n",
    "# The Chi2 value\n",
    "# The p-valueYea we \n",
    "# The expected frequencies.\n",
    "# Ho: there is no relationship\n",
    "# Ha: there is relationship differences\n",
    "# p_value = P(table | Ho) = P(table | no relationship) = 1.51e-6 < 0.05"
   ]
  },
  {
   "cell_type": "code",
   "execution_count": 346,
   "metadata": {},
   "outputs": [],
   "source": [
    "employee_group = employee_group.iloc[:,1:]"
   ]
  },
  {
   "cell_type": "code",
   "execution_count": 347,
   "metadata": {
    "colab": {
     "base_uri": "https://localhost:8080/"
    },
    "id": "xJ4eZt7UzSyP",
    "outputId": "8c3e8264-fa84-4046-b582-09283ac78611"
   },
   "outputs": [
    {
     "data": {
      "text/plain": [
       "(2676.642333711905,\n",
       " 0.0,\n",
       " 4,\n",
       " array([[  885.29798788,   625.70201212],\n",
       "        [  245.49295627,   173.50704373],\n",
       "        [ 2294.97830478,  1622.02169522],\n",
       "        [17794.43096618, 12576.56903382],\n",
       "        [ 1113.79978488,   787.20021512]]))"
      ]
     },
     "execution_count": 347,
     "metadata": {},
     "output_type": "execute_result"
    }
   ],
   "source": [
    "st.chi2_contingency(employee_group)"
   ]
  },
  {
   "cell_type": "markdown",
   "metadata": {
    "id": "HAlxWZjOzSyP"
   },
   "source": [
    "Check if your expected frequencies aggree with the ones obtained with the st.chi2_contingency() function"
   ]
  },
  {
   "cell_type": "code",
   "execution_count": 348,
   "metadata": {
    "id": "AbQbrku9zSyP"
   },
   "outputs": [
    {
     "data": {
      "text/plain": [
       "9.487729036781154"
      ]
     },
     "execution_count": 348,
     "metadata": {},
     "output_type": "execute_result"
    }
   ],
   "source": [
    "st.chi2.ppf(0.95,df=4)"
   ]
  },
  {
   "cell_type": "code",
   "execution_count": null,
   "metadata": {},
   "outputs": [],
   "source": [
    "### Indeed, the employee group is not independent from status!"
   ]
  }
 ],
 "metadata": {
  "colab": {
   "name": "main_solutions.ipynb",
   "provenance": [],
   "toc_visible": true
  },
  "kernelspec": {
   "display_name": "Python 3 (ipykernel)",
   "language": "python",
   "name": "python3"
  },
  "language_info": {
   "codemirror_mode": {
    "name": "ipython",
    "version": 3
   },
   "file_extension": ".py",
   "mimetype": "text/x-python",
   "name": "python",
   "nbconvert_exporter": "python",
   "pygments_lexer": "ipython3",
   "version": "3.9.12"
  }
 },
 "nbformat": 4,
 "nbformat_minor": 1
}
